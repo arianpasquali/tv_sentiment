{
 "cells": [
  {
   "cell_type": "code",
   "execution_count": 1,
   "metadata": {},
   "outputs": [],
   "source": [
    "%reload_ext autoreload\n",
    "%autoreload 2\n",
    "%matplotlib inline"
   ]
  },
  {
   "cell_type": "code",
   "execution_count": 2,
   "metadata": {},
   "outputs": [],
   "source": [
    "from fastai.text import *"
   ]
  },
  {
   "cell_type": "markdown",
   "metadata": {},
   "source": [
    "### Load the prediction model and test"
   ]
  },
  {
   "cell_type": "code",
   "execution_count": 3,
   "metadata": {},
   "outputs": [],
   "source": [
    "path = untar_data(URLs.IMDB)"
   ]
  },
  {
   "cell_type": "code",
   "execution_count": 4,
   "metadata": {},
   "outputs": [],
   "source": [
    "bs = 32"
   ]
  },
  {
   "cell_type": "code",
   "execution_count": 5,
   "metadata": {},
   "outputs": [],
   "source": [
    "data_clas = load_data(path, 'data_clas.pkl', bs=bs)"
   ]
  },
  {
   "cell_type": "code",
   "execution_count": 6,
   "metadata": {},
   "outputs": [],
   "source": [
    "learn = text_classifier_learner(data_clas, AWD_LSTM, drop_mult=0.5)"
   ]
  },
  {
   "cell_type": "code",
   "execution_count": 7,
   "metadata": {},
   "outputs": [
    {
     "data": {
      "text/plain": [
       "RNNLearner(data=TextClasDataBunch;\n",
       "\n",
       "Train: LabelList (25000 items)\n",
       "x: TextList\n",
       "xxbos xxmaj first things first , this movie is achingly beautiful . a someone who works on xxup 3d xxup cg films as a lighter / compositor , the visuals blew me away . xxmaj every second i was stunned by what was on screen xxmaj as for the story , well , it 's okay . xxmaj it 's not going to set the world on fire , but if you like your futuristic xxmaj blade xxmaj runner - esquire tales ( and who does n't ? ) then you will be fine . \n",
       " \n",
       "  i do have to say that i felt the voice acting was particularly bland and detracted from the movie as a whole . i saw it at the cinema in xxmaj english , but i am hoping that there is a xxmaj french version floating around somewhere . \n",
       " \n",
       "  xxmaj definitely worth seeing .,xxbos i just accidentally stumbled over this film on xxup tv one day . xxmaj it was aired in the middle of the day on a channel not exactly famous for airing good movies . xxmaj this one , however , was nothing less then good . \n",
       " \n",
       "  xxmaj october xxmaj sky tells the true story of xxmaj homer xxmaj hickam , a boy inspired by the xxmaj xxunk launch to become a rocket scientist . xxmaj he and his friends begin to build rockets . xxmaj his father is not to happy about his sons new found hobby and would rather see him become a coal - miner as himself or go to college on a football - scholarship like his brother . \n",
       " \n",
       "  xxmaj the story is well written . a bit too predictable maybe , but that 's xxup ok cause it does n't focus too much on those parts of the story . xxmaj it 's important part , but where this is obvious the inner action , the action between the characters is focused on . xxmaj the story is good . xxmaj it has some clichés , but that 's xxup ok . xxmaj it 's based on actual event 's so you kind of ca n't just drop out these clichés . xxmaj the characters are really good . xxmaj where the story is on a downhill the characters are brought out and manage to keep the action and the quality of the movie high . xxmaj you get to know these characters and you get sympathy for them . xxmaj they are well written and believable . \n",
       " \n",
       "  xxmaj this is a good looking movie . xxmaj the sets and the 50 's style is thorough and the pictures are well composed and well lit . xxmaj this all sets the mood of the film very good . \n",
       " \n",
       "  xxmaj the acting is really good . xxmaj jake xxmaj gyllenhaal delivers a great performance as xxmaj homer xxmaj hickam and xxmaj chris xxmaj cooper is good as xxmaj john xxmaj hickam . xxmaj as for the rest of the cast they are good too . xxmaj all together this makes out a pretty strong cast . \n",
       " \n",
       "  xxmaj all in all i 'm glad i caught this movie . xxmaj it was first after seeing it i learned that it was based on actual events . xxmaj if i had known that when seeing it , it would probably just be even more interesting . xxmaj october xxmaj sky is a good and interesting movie . xxmaj it 's a movie i believe everyone can enjoy . xxmaj it 's kind of a feel - good movie . xxmaj not bad at all !,xxbos xxmaj here 's a gritty , get - the - bad guys revenge story starring a relentless and rough xxmaj denzel xxmaj washington . xxmaj he 's three personalities here : a down - and - out - low - key - now xxunk former mercenary , then a loving father - type person to a little girl and then a brutal maniac on the loose seeking answers and revenge . \n",
       " \n",
       "  xxmaj the story is about xxmaj washington hired to be a bodyguard for a little xxmaj american girl living in xxmaj mexico , where kidnappings of children occur regularly ( at least according to the movie . ) xxmaj he becomes attached to the kid , played winningly by xxup the child actress of our day , xxmaj dakota xxmaj fanning . xxmaj when xxmaj fanning is kidnapped in front of him , xxmaj washington goes after the men responsible and spares no one . xxmaj beware : this film is not for the squeamish . \n",
       " \n",
       "  xxmaj this is stylish film - making , which is good and bad . i liked it , but a number of people found it too frenetic for their tastes as the camera - work is one that could give you a headache . i thought it fit the tense storyline and was fascinating to view , but it 's ( the shaky camera ) not for all tastes . \n",
       " \n",
       "  xxmaj besides the two stars , there is the always - interesting xxmaj christopher xxmaj walken , in an uncharacteristically low - key role , and a number of other fine actors . \n",
       " \n",
       "  xxmaj the film panders to the base emotions in all of us , but it works .,xxbos xxmaj this film sat on my xxmaj tivo for weeks before i watched it . i dreaded a self - indulgent yuppie flick about relationships gone bad . i was wrong ; this was an engrossing excursion into the screwed - up libidos of xxmaj new xxmaj yorkers . \n",
       " \n",
       "  xxmaj the format is the same as xxmaj max xxmaj ophuls ' \" xxmaj la xxmaj ronde , \" based on a play by xxmaj arthur xxmaj schnitzler , who is given an \" inspired by \" credit . xxmaj it starts from one person , a prostitute , standing on a street corner in xxmaj brooklyn . xxmaj she is picked up by a home contractor , who has sex with her on the hood of a car , but ca n't come . xxmaj he refuses to pay her . xxmaj when he 's off peeing , she answers his cell phone and takes a message . xxmaj she runs away with his keys . \n",
       " \n",
       "  xxmaj then the story switches to the contractor , who pays a professional call on a rich , bored xxmaj new xxmaj york woman , who plays with him until he is aroused , then she pulls away . xxmaj she tells him how desperate and unhappy she is ; he tells her how beautiful she is , and lucky . xxmaj as he is leaving , she asks if he would have sex with her . xxmaj she sits on top of him , bounces up and down . xxmaj this time he comes , the he leaves . \n",
       " \n",
       "  xxmaj the woman and her husband throw a dinner party for their trendy friends . xxmaj hubby ( xxmaj robert ) is talking business , wife ( xxmaj ellen ) is bored , and switches the subject to sex , and how often men and women think about it . xxmaj husband switches conversation to desert . xxmaj later , after the guests leave , xxmaj ellen tries to entice xxmaj robert into sex . xxmaj robert wants none of it , and puts on a jazz record . xxmaj ellen turns on the radio ; xxmaj robert turns up the music ; xxmaj ellen turns on the xxup tv ; xxmaj robert turns on another xxup tv . xxmaj cacophony ensues . xxmaj ellen goes up on the roof , xxmaj robert joins her . xxmaj ellen confesses that she needs to experience more men , men other than xxmaj robert . xxmaj robert says that he too needs to experience men . \n",
       " \n",
       "  xxmaj we next follow xxmaj robert as he visits an artist , xxmaj martin , played by xxmaj steve xxmaj buscemi . i wish xxmaj buscemi could have more roles like this , where he is a sexy , smart , totally desirable guy . xxmaj robert praises xxmaj martin 's work , much more than it deserves , promises to get it into a show . xxmaj martin is excited , until it turns out that xxmaj robert is speaking out of his groin , it is all a mating dance . xxmaj robert tries to kiss xxmaj martin , on the lips , and xxmaj martin pulls back , saying that he is not gay . xxmaj robert asserts that he 's not gay either , xxmaj martin scoffs . xxmaj both admit that the artworks are bad . xxmaj robert is about to leave , when xxmaj martin allows xxmaj robert to kiss him . xxmaj they make out , and xxmaj robert goes down on xxmaj martin . \n",
       " \n",
       "  xxmaj next we follow xxmaj martin , as he prepares for an art show at a xxmaj manhattan gallery . xxmaj he is smitten by the receptionist , xxmaj anna , played by xxmaj rosario xxmaj dawson . ( i had to cut some of this review to keep it under 1000 words ) ... and they make love to each other . \n",
       " \n",
       "  xxmaj we next follow xxmaj anna , who is sitting at a lunch stand . xxmaj her boyfriend , xxmaj nick ( xxmaj adrian xxmaj grenier ) , enters , bearing flowers . xxmaj she is cold toward him ; he tries to figure out why . xxmaj he coaxes out of her the information that she has had sex with someone while he was in xxmaj san xxmaj francisco . xxmaj she coaxes out of him the fact that he has stayed with his ex - gf while in xxmaj san xxmaj francisco , and had sex with her . xxmaj the latter revelation turns out to be a lie . xxmaj the two of them make out in the xxunk , but she decides that they must break up . xxmaj nick is heartbroken . \n",
       " \n",
       "  xxmaj and we follow xxmaj nick , who confesses his troubles to an older woman who he meets on a park bench , xxmaj joey ( xxmaj carol xxmaj kane ) . xxmaj joey is sort of weird and child - like , but is a good audience for xxmaj nick , who needs a sympathetic ear . xxmaj the two of them go to xxmaj coney xxmaj island at night , and look at the stars . xxmaj nick falls under xxmaj joey 's spell , despite the age difference between them . xxmaj they go back to xxmaj joey 's apartment , and xxmaj nick gradually realizes that he is about to have sex with a crazy old woman . xxmaj she is on top of him , does n't want to let him go . xxmaj but he manages to escape . \n",
       " \n",
       "  ( xxmaj this is , by the way , the best xxmaj carol xxmaj kane role since she played xxmaj xxunk 's wife in xxmaj taxi . ) xxmaj joey 's phone rings , and it is a man calling the xxmaj psychic xxmaj friends xxmaj network , and xxmaj joey is one of the psychic friends . xxmaj although she is still hurting from xxmaj nick , she gradually gets into her psychic shtick . xxmaj the man is at his office , late at night , and wants to have phone sex with her . xxmaj although that is not xxmaj joey 's business , xxmaj joey goes along , and coaxes the man to come . xxmaj she wants to keep talking , although the man want to get off the phone , and finds out that he has embezzled a lot of money from his company , and will be found out tomorrow . xxmaj his life is ruined . xxmaj joey realizes that the man is going to commit suicide , and she tries to make him believe that she is his friend , that she cares about him . xxmaj and she does care about him . \n",
       " \n",
       "  xxmaj but the man packs a gun into his briefcase , and goes off to seek a prostitute on the xxmaj brooklyn waterfront , and we come back to the beginning , to the same prostitute who started out xxmaj la xxmaj ronde . xxmaj she wants to give him $ 75,000 in cash if she will kill him . xxmaj he tried to kill himself , but could n't do it . xxmaj the prostitute does not want to do it , but he insists , holding her hand , holding the gun inside his mouth , telling her where to aim . xxmaj eventually , the gun goes off , and we see the prostitute walking down the street , and arriving at the corner where she normally does business . xxmaj the contractor who did n't pay her earlier in the movie drives up , rolls down the window . xxmaj they look at each other . xxup the xxup end .,xxbos xxmaj before viewing , please make sure you have seen xxmaj night of the xxmaj living xxmaj dead ... xxmaj this might well be xxup the best 7 minute parody i have ever seen ! xxmaj absurd , crappy ' special effects ' ( the rope , the rope ! ! ! ) , and xxunk slices of bread ... what more do you need ? ? ? \n",
       " \n",
       "  ( xxmaj do not watch this movie while eating bread ... you might get scared ! )\n",
       "y: CategoryList\n",
       "pos,pos,pos,pos,pos\n",
       "Path: /home/jupyter/.fastai/data/imdb;\n",
       "\n",
       "Valid: LabelList (25000 items)\n",
       "x: TextList\n",
       "xxbos xxmaj anyone looking to learn more about the development of skateboarding should find xxmaj dogtown and z - xxmaj boys adequate research material . xxmaj this is not to be confused with xxmaj lords of xxmaj dogtown , that sorry xxmaj hollywood attempt to cash in on the success of the original xxmaj dogtown revival . \n",
       " \n",
       "  xxmaj directed by xxmaj stacey xxmaj peralta , a former z - xxmaj boys himself as well as pro skater and mastermind behind the 80s xxmaj bones xxmaj brigade , and co - written with skateboarding photojournalist xxmaj craig xxmaj stecyk , this documentary traces how a group of surfing kids from xxmaj southern xxmaj california 's mean streets ( known as xxmaj dogtown ) who formed the z - xxmaj boys skateboard team ( actually there was one girl -- xxmaj peggy xxmaj xxunk ) revolutionized skateboarding . xxmaj the film contains interviews from nearly all of the z - xxmaj boys ( xxmaj chris xxmaj cahill 's whereabouts are unknown ) with the most xxunk being bad ass xxmaj tony xxmaj alva and the youngest , xxmaj jay xxmaj adams , who 's talents ( along with xxmaj xxunk ) seemed to transcend the rest of the teams . xxmaj there are interviews of the team 's ( and the xxmaj dogtown shop ) founders , surfboard designer xxmaj jeff xxmaj ho , xxmaj skip xxmaj xxunk , and xxmaj craig xxmaj stecyk . xxmaj there are also interviews of folks like xxmaj tony xxmaj hawk ( obviously ) , xxmaj ian xxunk ( xxmaj xxunk ) , and xxmaj henry xxmaj rollins , who were young kids in the 70s when xxmaj dogtown was making it 's influence on skateboarding ( skateboarding was a whole other context in previous years as the documentary explains ) . \n",
       " \n",
       "  xxmaj it really shows you not only who the xxmaj dogtown team was and how they formed , but why their style changed not only skateboarding tricks ( pool skating became xxunk popular , and thus gave way to vert skating ) , but also facilitated the sport ( though not into the extreme commercialism it is today ) as more than just the fleeting fad it had been earlier as these surfing kids who 's waves ran out in the early morning needed ways to spend their time and eventually got into skateboarding . xxmaj the days of xxmaj russ xxmaj howell and xxmaj alan xxmaj xxunk were long over as the xxmaj dogtown , at least through the publicity of their skate team , paved the way for the new generation of skaters . xxmaj because xxmaj dogtown got all the attention , they were able to push skating to the next step . \n",
       " \n",
       "  xxmaj it 's a great documentary in the way that it is put together , though xxmaj stacey xxmaj peralta always knew how to do this even when producing the xxmaj bones xxmaj brigade mini movies / skate demos like \" xxmaj ban xxmaj this \" and \" xxmaj search for xxmaj animal xxmaj chin . \" xxmaj narrated by xxmaj sean xxmaj penn , the film is accompanied by a fantastic soundtrack , contains lots of terrific archive footage , and lots of interview to give you a genuine feel of who the z - xxmaj boys were and how they made their mark on skateboarding .,xxbos xxmaj contains xxmaj spoilers \n",
       " \n",
       "  xxmaj luchino xxmaj visconti 's film adaptation of xxmaj thomas xxmaj mann 's novella is visually , if not philosophically , faithful to its source ( xxmaj xxunk 's opera offers a more faithful reading of the xxmaj apollonian / xxmaj xxunk struggles which consume the aging writer ) . xxmaj it is certainly one of the most gorgeous films ever made . \n",
       " \n",
       "  xxmaj in the xxmaj visconti version , the emphasis is more on the physical aspects of the story . xxmaj never has xxmaj venice looked more beautiful and alluring , more decadent and effete . xxmaj if you 've read the novella , it 's like having the descriptions on its pages come to life . xxmaj dirk xxmaj bogarde gives an outstanding performance as xxmaj gustav von xxmaj aschenbach . xxmaj although he has very little dialogue , he conveys the bitterness , aroused passion and finally , pitiful yearning of xxmaj aschenbach through facial expressions alone . xxmaj bjorn xxmaj xxunk , the young actor who plays xxmaj tadzio , the beautiful object of xxmaj aschenbach 's desire , was perfectly cast . xxmaj he too plays the part with facial expressions and gestures . xxmaj the xxmaj tadzio character is pivotal to the story , so any actor in this role must be worthy of inspiring passion and desire . xxmaj visconti , with his incredible eye for beauty , knew exactly what he was doing . xxmaj and changing xxmaj ashenbach from a writer to a composer based on xxmaj gustav xxmaj mahler , and then using xxmaj mahler 's music , especially the xxmaj xxunk from the 5th xxmaj symphony , was another brilliant stroke . xxmaj although i 'd read the xxmaj mann story before the film , xxmaj mahler 's music and xxmaj death in xxmaj venice will always be inextricably linked in my mind . xxmaj as will the haunting images which appear throughout the film , especially that last one of xxmaj ashenbach dying on the beach as xxmaj tadzio walks slowly into the sea . \n",
       " \n",
       "  xxmaj one day this film will be released in xxup dvd widescreen format and its visual splendors completely restored to us .,xxbos xxup ok , xxmaj anatomie is not a reinvention of the xxmaj horrormovie - xxmaj genre , but nevertheless it is well done . xxmaj good actors ( xxmaj potente and xxmaj xxunk at first ) and some nice ideas made me happy . xxmaj maybe i would have been not so positive if this wasn´t a german movie , but who cares . xxmaj it is good to see familiar faces in a good , thrilling story , with some gore and some good jokes in it . xxmaj all of you complaining about the dubbing : i didn´t see a dubbed version ( of course ) but i believe that it is not easy for you to watch dubbed movies . xxmaj we ( xxmaj germans ) are used to watch movies like that , so it´s not a big problem . xxmaj but try to watch in german with subtitles . xxmaj the actors are really good !,xxbos xxmaj like in \" xxmaj les amants du xxmaj pont - xxmaj neuf \" two outsiders lives a love story without concessions . xxmaj the film consists out of a lot of interesting conversation and a lot of sweet moments . xxmaj the best one comes in a listening booth . xxmaj they listen to a record together and once in a while they look at each other . xxmaj they talk , they like each other . xxmaj she suggests a change in their lives but he is out of hope . xxmaj the realistic xxunk over the realistic ( but ) emotive dialogs . a really xxunk screenwriter 's work for this film . xxmaj spanish novel director xxmaj jesus xxmaj ponce creates one of the most perfect gallery from the latest year of xxmaj spanish cinema .,xxbos i saw this when it first came out and have seen it several times since . i have the xxup dvd . xxmaj it 's one of xxmaj drew xxmaj barrymore 's best works and one that is worth seeing more than once . \n",
       " \n",
       "  xxmaj not being popular in high school was one f the things in the film i could relate to . i was n't quite as tortured as xxmaj josie was ( during her real high school days ) or like xxmaj xxunk , but i was never the go- to - the - major - party type either . xxmaj the prom scene were the three popular girls fall victim to their own prank as xxmaj josie pushes way xxmaj xxunk ( the intended victim ) is my favorite scene and i clapped when i first saw it . \n",
       " \n",
       "  i can still watch this movie today . it is excellent .\n",
       "y: CategoryList\n",
       "pos,pos,pos,pos,pos\n",
       "Path: /home/jupyter/.fastai/data/imdb;\n",
       "\n",
       "Test: None, model=SequentialRNN(\n",
       "  (0): MultiBatchEncoder(\n",
       "    (module): AWD_LSTM(\n",
       "      (encoder): Embedding(60000, 400, padding_idx=1)\n",
       "      (encoder_dp): EmbeddingDropout(\n",
       "        (emb): Embedding(60000, 400, padding_idx=1)\n",
       "      )\n",
       "      (rnns): ModuleList(\n",
       "        (0): WeightDropout(\n",
       "          (module): LSTM(400, 1152, batch_first=True)\n",
       "        )\n",
       "        (1): WeightDropout(\n",
       "          (module): LSTM(1152, 1152, batch_first=True)\n",
       "        )\n",
       "        (2): WeightDropout(\n",
       "          (module): LSTM(1152, 400, batch_first=True)\n",
       "        )\n",
       "      )\n",
       "      (input_dp): RNNDropout()\n",
       "      (hidden_dps): ModuleList(\n",
       "        (0): RNNDropout()\n",
       "        (1): RNNDropout()\n",
       "        (2): RNNDropout()\n",
       "      )\n",
       "    )\n",
       "  )\n",
       "  (1): PoolingLinearClassifier(\n",
       "    (layers): Sequential(\n",
       "      (0): BatchNorm1d(1200, eps=1e-05, momentum=0.1, affine=True, track_running_stats=True)\n",
       "      (1): Dropout(p=0.2, inplace=False)\n",
       "      (2): Linear(in_features=1200, out_features=50, bias=True)\n",
       "      (3): ReLU(inplace=True)\n",
       "      (4): BatchNorm1d(50, eps=1e-05, momentum=0.1, affine=True, track_running_stats=True)\n",
       "      (5): Dropout(p=0.1, inplace=False)\n",
       "      (6): Linear(in_features=50, out_features=2, bias=True)\n",
       "    )\n",
       "  )\n",
       "), opt_func=functools.partial(<class 'torch.optim.adam.Adam'>, betas=(0.9, 0.99)), loss_func=FlattenedLoss of CrossEntropyLoss(), metrics=[<function accuracy at 0x7fe10f6be3b0>], true_wd=True, bn_wd=True, wd=0.01, train_bn=True, path=PosixPath('/home/jupyter/.fastai/data/imdb'), model_dir='models', callback_fns=[functools.partial(<class 'fastai.basic_train.Recorder'>, add_time=True, silent=False)], callbacks=[RNNTrainer\n",
       "learn: ...\n",
       "alpha: 2.0\n",
       "beta: 1.0], layer_groups=[Sequential(\n",
       "  (0): Embedding(60000, 400, padding_idx=1)\n",
       "  (1): EmbeddingDropout(\n",
       "    (emb): Embedding(60000, 400, padding_idx=1)\n",
       "  )\n",
       "), Sequential(\n",
       "  (0): WeightDropout(\n",
       "    (module): LSTM(400, 1152, batch_first=True)\n",
       "  )\n",
       "  (1): RNNDropout()\n",
       "), Sequential(\n",
       "  (0): WeightDropout(\n",
       "    (module): LSTM(1152, 1152, batch_first=True)\n",
       "  )\n",
       "  (1): RNNDropout()\n",
       "), Sequential(\n",
       "  (0): WeightDropout(\n",
       "    (module): LSTM(1152, 400, batch_first=True)\n",
       "  )\n",
       "  (1): RNNDropout()\n",
       "), Sequential(\n",
       "  (0): PoolingLinearClassifier(\n",
       "    (layers): Sequential(\n",
       "      (0): BatchNorm1d(1200, eps=1e-05, momentum=0.1, affine=True, track_running_stats=True)\n",
       "      (1): Dropout(p=0.2, inplace=False)\n",
       "      (2): Linear(in_features=1200, out_features=50, bias=True)\n",
       "      (3): ReLU(inplace=True)\n",
       "      (4): BatchNorm1d(50, eps=1e-05, momentum=0.1, affine=True, track_running_stats=True)\n",
       "      (5): Dropout(p=0.1, inplace=False)\n",
       "      (6): Linear(in_features=50, out_features=2, bias=True)\n",
       "    )\n",
       "  )\n",
       ")], add_time=True, silent=False, cb_fns_registered=False)"
      ]
     },
     "execution_count": 7,
     "metadata": {},
     "output_type": "execute_result"
    }
   ],
   "source": [
    "learn.load_encoder('fine_tuned_enc')"
   ]
  },
  {
   "cell_type": "code",
   "execution_count": 8,
   "metadata": {},
   "outputs": [
    {
     "data": {
      "text/plain": [
       "RNNLearner(data=TextClasDataBunch;\n",
       "\n",
       "Train: LabelList (25000 items)\n",
       "x: TextList\n",
       "xxbos xxmaj first things first , this movie is achingly beautiful . a someone who works on xxup 3d xxup cg films as a lighter / compositor , the visuals blew me away . xxmaj every second i was stunned by what was on screen xxmaj as for the story , well , it 's okay . xxmaj it 's not going to set the world on fire , but if you like your futuristic xxmaj blade xxmaj runner - esquire tales ( and who does n't ? ) then you will be fine . \n",
       " \n",
       "  i do have to say that i felt the voice acting was particularly bland and detracted from the movie as a whole . i saw it at the cinema in xxmaj english , but i am hoping that there is a xxmaj french version floating around somewhere . \n",
       " \n",
       "  xxmaj definitely worth seeing .,xxbos i just accidentally stumbled over this film on xxup tv one day . xxmaj it was aired in the middle of the day on a channel not exactly famous for airing good movies . xxmaj this one , however , was nothing less then good . \n",
       " \n",
       "  xxmaj october xxmaj sky tells the true story of xxmaj homer xxmaj hickam , a boy inspired by the xxmaj xxunk launch to become a rocket scientist . xxmaj he and his friends begin to build rockets . xxmaj his father is not to happy about his sons new found hobby and would rather see him become a coal - miner as himself or go to college on a football - scholarship like his brother . \n",
       " \n",
       "  xxmaj the story is well written . a bit too predictable maybe , but that 's xxup ok cause it does n't focus too much on those parts of the story . xxmaj it 's important part , but where this is obvious the inner action , the action between the characters is focused on . xxmaj the story is good . xxmaj it has some clichés , but that 's xxup ok . xxmaj it 's based on actual event 's so you kind of ca n't just drop out these clichés . xxmaj the characters are really good . xxmaj where the story is on a downhill the characters are brought out and manage to keep the action and the quality of the movie high . xxmaj you get to know these characters and you get sympathy for them . xxmaj they are well written and believable . \n",
       " \n",
       "  xxmaj this is a good looking movie . xxmaj the sets and the 50 's style is thorough and the pictures are well composed and well lit . xxmaj this all sets the mood of the film very good . \n",
       " \n",
       "  xxmaj the acting is really good . xxmaj jake xxmaj gyllenhaal delivers a great performance as xxmaj homer xxmaj hickam and xxmaj chris xxmaj cooper is good as xxmaj john xxmaj hickam . xxmaj as for the rest of the cast they are good too . xxmaj all together this makes out a pretty strong cast . \n",
       " \n",
       "  xxmaj all in all i 'm glad i caught this movie . xxmaj it was first after seeing it i learned that it was based on actual events . xxmaj if i had known that when seeing it , it would probably just be even more interesting . xxmaj october xxmaj sky is a good and interesting movie . xxmaj it 's a movie i believe everyone can enjoy . xxmaj it 's kind of a feel - good movie . xxmaj not bad at all !,xxbos xxmaj here 's a gritty , get - the - bad guys revenge story starring a relentless and rough xxmaj denzel xxmaj washington . xxmaj he 's three personalities here : a down - and - out - low - key - now xxunk former mercenary , then a loving father - type person to a little girl and then a brutal maniac on the loose seeking answers and revenge . \n",
       " \n",
       "  xxmaj the story is about xxmaj washington hired to be a bodyguard for a little xxmaj american girl living in xxmaj mexico , where kidnappings of children occur regularly ( at least according to the movie . ) xxmaj he becomes attached to the kid , played winningly by xxup the child actress of our day , xxmaj dakota xxmaj fanning . xxmaj when xxmaj fanning is kidnapped in front of him , xxmaj washington goes after the men responsible and spares no one . xxmaj beware : this film is not for the squeamish . \n",
       " \n",
       "  xxmaj this is stylish film - making , which is good and bad . i liked it , but a number of people found it too frenetic for their tastes as the camera - work is one that could give you a headache . i thought it fit the tense storyline and was fascinating to view , but it 's ( the shaky camera ) not for all tastes . \n",
       " \n",
       "  xxmaj besides the two stars , there is the always - interesting xxmaj christopher xxmaj walken , in an uncharacteristically low - key role , and a number of other fine actors . \n",
       " \n",
       "  xxmaj the film panders to the base emotions in all of us , but it works .,xxbos xxmaj this film sat on my xxmaj tivo for weeks before i watched it . i dreaded a self - indulgent yuppie flick about relationships gone bad . i was wrong ; this was an engrossing excursion into the screwed - up libidos of xxmaj new xxmaj yorkers . \n",
       " \n",
       "  xxmaj the format is the same as xxmaj max xxmaj ophuls ' \" xxmaj la xxmaj ronde , \" based on a play by xxmaj arthur xxmaj schnitzler , who is given an \" inspired by \" credit . xxmaj it starts from one person , a prostitute , standing on a street corner in xxmaj brooklyn . xxmaj she is picked up by a home contractor , who has sex with her on the hood of a car , but ca n't come . xxmaj he refuses to pay her . xxmaj when he 's off peeing , she answers his cell phone and takes a message . xxmaj she runs away with his keys . \n",
       " \n",
       "  xxmaj then the story switches to the contractor , who pays a professional call on a rich , bored xxmaj new xxmaj york woman , who plays with him until he is aroused , then she pulls away . xxmaj she tells him how desperate and unhappy she is ; he tells her how beautiful she is , and lucky . xxmaj as he is leaving , she asks if he would have sex with her . xxmaj she sits on top of him , bounces up and down . xxmaj this time he comes , the he leaves . \n",
       " \n",
       "  xxmaj the woman and her husband throw a dinner party for their trendy friends . xxmaj hubby ( xxmaj robert ) is talking business , wife ( xxmaj ellen ) is bored , and switches the subject to sex , and how often men and women think about it . xxmaj husband switches conversation to desert . xxmaj later , after the guests leave , xxmaj ellen tries to entice xxmaj robert into sex . xxmaj robert wants none of it , and puts on a jazz record . xxmaj ellen turns on the radio ; xxmaj robert turns up the music ; xxmaj ellen turns on the xxup tv ; xxmaj robert turns on another xxup tv . xxmaj cacophony ensues . xxmaj ellen goes up on the roof , xxmaj robert joins her . xxmaj ellen confesses that she needs to experience more men , men other than xxmaj robert . xxmaj robert says that he too needs to experience men . \n",
       " \n",
       "  xxmaj we next follow xxmaj robert as he visits an artist , xxmaj martin , played by xxmaj steve xxmaj buscemi . i wish xxmaj buscemi could have more roles like this , where he is a sexy , smart , totally desirable guy . xxmaj robert praises xxmaj martin 's work , much more than it deserves , promises to get it into a show . xxmaj martin is excited , until it turns out that xxmaj robert is speaking out of his groin , it is all a mating dance . xxmaj robert tries to kiss xxmaj martin , on the lips , and xxmaj martin pulls back , saying that he is not gay . xxmaj robert asserts that he 's not gay either , xxmaj martin scoffs . xxmaj both admit that the artworks are bad . xxmaj robert is about to leave , when xxmaj martin allows xxmaj robert to kiss him . xxmaj they make out , and xxmaj robert goes down on xxmaj martin . \n",
       " \n",
       "  xxmaj next we follow xxmaj martin , as he prepares for an art show at a xxmaj manhattan gallery . xxmaj he is smitten by the receptionist , xxmaj anna , played by xxmaj rosario xxmaj dawson . ( i had to cut some of this review to keep it under 1000 words ) ... and they make love to each other . \n",
       " \n",
       "  xxmaj we next follow xxmaj anna , who is sitting at a lunch stand . xxmaj her boyfriend , xxmaj nick ( xxmaj adrian xxmaj grenier ) , enters , bearing flowers . xxmaj she is cold toward him ; he tries to figure out why . xxmaj he coaxes out of her the information that she has had sex with someone while he was in xxmaj san xxmaj francisco . xxmaj she coaxes out of him the fact that he has stayed with his ex - gf while in xxmaj san xxmaj francisco , and had sex with her . xxmaj the latter revelation turns out to be a lie . xxmaj the two of them make out in the xxunk , but she decides that they must break up . xxmaj nick is heartbroken . \n",
       " \n",
       "  xxmaj and we follow xxmaj nick , who confesses his troubles to an older woman who he meets on a park bench , xxmaj joey ( xxmaj carol xxmaj kane ) . xxmaj joey is sort of weird and child - like , but is a good audience for xxmaj nick , who needs a sympathetic ear . xxmaj the two of them go to xxmaj coney xxmaj island at night , and look at the stars . xxmaj nick falls under xxmaj joey 's spell , despite the age difference between them . xxmaj they go back to xxmaj joey 's apartment , and xxmaj nick gradually realizes that he is about to have sex with a crazy old woman . xxmaj she is on top of him , does n't want to let him go . xxmaj but he manages to escape . \n",
       " \n",
       "  ( xxmaj this is , by the way , the best xxmaj carol xxmaj kane role since she played xxmaj xxunk 's wife in xxmaj taxi . ) xxmaj joey 's phone rings , and it is a man calling the xxmaj psychic xxmaj friends xxmaj network , and xxmaj joey is one of the psychic friends . xxmaj although she is still hurting from xxmaj nick , she gradually gets into her psychic shtick . xxmaj the man is at his office , late at night , and wants to have phone sex with her . xxmaj although that is not xxmaj joey 's business , xxmaj joey goes along , and coaxes the man to come . xxmaj she wants to keep talking , although the man want to get off the phone , and finds out that he has embezzled a lot of money from his company , and will be found out tomorrow . xxmaj his life is ruined . xxmaj joey realizes that the man is going to commit suicide , and she tries to make him believe that she is his friend , that she cares about him . xxmaj and she does care about him . \n",
       " \n",
       "  xxmaj but the man packs a gun into his briefcase , and goes off to seek a prostitute on the xxmaj brooklyn waterfront , and we come back to the beginning , to the same prostitute who started out xxmaj la xxmaj ronde . xxmaj she wants to give him $ 75,000 in cash if she will kill him . xxmaj he tried to kill himself , but could n't do it . xxmaj the prostitute does not want to do it , but he insists , holding her hand , holding the gun inside his mouth , telling her where to aim . xxmaj eventually , the gun goes off , and we see the prostitute walking down the street , and arriving at the corner where she normally does business . xxmaj the contractor who did n't pay her earlier in the movie drives up , rolls down the window . xxmaj they look at each other . xxup the xxup end .,xxbos xxmaj before viewing , please make sure you have seen xxmaj night of the xxmaj living xxmaj dead ... xxmaj this might well be xxup the best 7 minute parody i have ever seen ! xxmaj absurd , crappy ' special effects ' ( the rope , the rope ! ! ! ) , and xxunk slices of bread ... what more do you need ? ? ? \n",
       " \n",
       "  ( xxmaj do not watch this movie while eating bread ... you might get scared ! )\n",
       "y: CategoryList\n",
       "pos,pos,pos,pos,pos\n",
       "Path: /home/jupyter/.fastai/data/imdb;\n",
       "\n",
       "Valid: LabelList (25000 items)\n",
       "x: TextList\n",
       "xxbos xxmaj anyone looking to learn more about the development of skateboarding should find xxmaj dogtown and z - xxmaj boys adequate research material . xxmaj this is not to be confused with xxmaj lords of xxmaj dogtown , that sorry xxmaj hollywood attempt to cash in on the success of the original xxmaj dogtown revival . \n",
       " \n",
       "  xxmaj directed by xxmaj stacey xxmaj peralta , a former z - xxmaj boys himself as well as pro skater and mastermind behind the 80s xxmaj bones xxmaj brigade , and co - written with skateboarding photojournalist xxmaj craig xxmaj stecyk , this documentary traces how a group of surfing kids from xxmaj southern xxmaj california 's mean streets ( known as xxmaj dogtown ) who formed the z - xxmaj boys skateboard team ( actually there was one girl -- xxmaj peggy xxmaj xxunk ) revolutionized skateboarding . xxmaj the film contains interviews from nearly all of the z - xxmaj boys ( xxmaj chris xxmaj cahill 's whereabouts are unknown ) with the most xxunk being bad ass xxmaj tony xxmaj alva and the youngest , xxmaj jay xxmaj adams , who 's talents ( along with xxmaj xxunk ) seemed to transcend the rest of the teams . xxmaj there are interviews of the team 's ( and the xxmaj dogtown shop ) founders , surfboard designer xxmaj jeff xxmaj ho , xxmaj skip xxmaj xxunk , and xxmaj craig xxmaj stecyk . xxmaj there are also interviews of folks like xxmaj tony xxmaj hawk ( obviously ) , xxmaj ian xxunk ( xxmaj xxunk ) , and xxmaj henry xxmaj rollins , who were young kids in the 70s when xxmaj dogtown was making it 's influence on skateboarding ( skateboarding was a whole other context in previous years as the documentary explains ) . \n",
       " \n",
       "  xxmaj it really shows you not only who the xxmaj dogtown team was and how they formed , but why their style changed not only skateboarding tricks ( pool skating became xxunk popular , and thus gave way to vert skating ) , but also facilitated the sport ( though not into the extreme commercialism it is today ) as more than just the fleeting fad it had been earlier as these surfing kids who 's waves ran out in the early morning needed ways to spend their time and eventually got into skateboarding . xxmaj the days of xxmaj russ xxmaj howell and xxmaj alan xxmaj xxunk were long over as the xxmaj dogtown , at least through the publicity of their skate team , paved the way for the new generation of skaters . xxmaj because xxmaj dogtown got all the attention , they were able to push skating to the next step . \n",
       " \n",
       "  xxmaj it 's a great documentary in the way that it is put together , though xxmaj stacey xxmaj peralta always knew how to do this even when producing the xxmaj bones xxmaj brigade mini movies / skate demos like \" xxmaj ban xxmaj this \" and \" xxmaj search for xxmaj animal xxmaj chin . \" xxmaj narrated by xxmaj sean xxmaj penn , the film is accompanied by a fantastic soundtrack , contains lots of terrific archive footage , and lots of interview to give you a genuine feel of who the z - xxmaj boys were and how they made their mark on skateboarding .,xxbos xxmaj contains xxmaj spoilers \n",
       " \n",
       "  xxmaj luchino xxmaj visconti 's film adaptation of xxmaj thomas xxmaj mann 's novella is visually , if not philosophically , faithful to its source ( xxmaj xxunk 's opera offers a more faithful reading of the xxmaj apollonian / xxmaj xxunk struggles which consume the aging writer ) . xxmaj it is certainly one of the most gorgeous films ever made . \n",
       " \n",
       "  xxmaj in the xxmaj visconti version , the emphasis is more on the physical aspects of the story . xxmaj never has xxmaj venice looked more beautiful and alluring , more decadent and effete . xxmaj if you 've read the novella , it 's like having the descriptions on its pages come to life . xxmaj dirk xxmaj bogarde gives an outstanding performance as xxmaj gustav von xxmaj aschenbach . xxmaj although he has very little dialogue , he conveys the bitterness , aroused passion and finally , pitiful yearning of xxmaj aschenbach through facial expressions alone . xxmaj bjorn xxmaj xxunk , the young actor who plays xxmaj tadzio , the beautiful object of xxmaj aschenbach 's desire , was perfectly cast . xxmaj he too plays the part with facial expressions and gestures . xxmaj the xxmaj tadzio character is pivotal to the story , so any actor in this role must be worthy of inspiring passion and desire . xxmaj visconti , with his incredible eye for beauty , knew exactly what he was doing . xxmaj and changing xxmaj ashenbach from a writer to a composer based on xxmaj gustav xxmaj mahler , and then using xxmaj mahler 's music , especially the xxmaj xxunk from the 5th xxmaj symphony , was another brilliant stroke . xxmaj although i 'd read the xxmaj mann story before the film , xxmaj mahler 's music and xxmaj death in xxmaj venice will always be inextricably linked in my mind . xxmaj as will the haunting images which appear throughout the film , especially that last one of xxmaj ashenbach dying on the beach as xxmaj tadzio walks slowly into the sea . \n",
       " \n",
       "  xxmaj one day this film will be released in xxup dvd widescreen format and its visual splendors completely restored to us .,xxbos xxup ok , xxmaj anatomie is not a reinvention of the xxmaj horrormovie - xxmaj genre , but nevertheless it is well done . xxmaj good actors ( xxmaj potente and xxmaj xxunk at first ) and some nice ideas made me happy . xxmaj maybe i would have been not so positive if this wasn´t a german movie , but who cares . xxmaj it is good to see familiar faces in a good , thrilling story , with some gore and some good jokes in it . xxmaj all of you complaining about the dubbing : i didn´t see a dubbed version ( of course ) but i believe that it is not easy for you to watch dubbed movies . xxmaj we ( xxmaj germans ) are used to watch movies like that , so it´s not a big problem . xxmaj but try to watch in german with subtitles . xxmaj the actors are really good !,xxbos xxmaj like in \" xxmaj les amants du xxmaj pont - xxmaj neuf \" two outsiders lives a love story without concessions . xxmaj the film consists out of a lot of interesting conversation and a lot of sweet moments . xxmaj the best one comes in a listening booth . xxmaj they listen to a record together and once in a while they look at each other . xxmaj they talk , they like each other . xxmaj she suggests a change in their lives but he is out of hope . xxmaj the realistic xxunk over the realistic ( but ) emotive dialogs . a really xxunk screenwriter 's work for this film . xxmaj spanish novel director xxmaj jesus xxmaj ponce creates one of the most perfect gallery from the latest year of xxmaj spanish cinema .,xxbos i saw this when it first came out and have seen it several times since . i have the xxup dvd . xxmaj it 's one of xxmaj drew xxmaj barrymore 's best works and one that is worth seeing more than once . \n",
       " \n",
       "  xxmaj not being popular in high school was one f the things in the film i could relate to . i was n't quite as tortured as xxmaj josie was ( during her real high school days ) or like xxmaj xxunk , but i was never the go- to - the - major - party type either . xxmaj the prom scene were the three popular girls fall victim to their own prank as xxmaj josie pushes way xxmaj xxunk ( the intended victim ) is my favorite scene and i clapped when i first saw it . \n",
       " \n",
       "  i can still watch this movie today . it is excellent .\n",
       "y: CategoryList\n",
       "pos,pos,pos,pos,pos\n",
       "Path: /home/jupyter/.fastai/data/imdb;\n",
       "\n",
       "Test: None, model=SequentialRNN(\n",
       "  (0): MultiBatchEncoder(\n",
       "    (module): AWD_LSTM(\n",
       "      (encoder): Embedding(60000, 400, padding_idx=1)\n",
       "      (encoder_dp): EmbeddingDropout(\n",
       "        (emb): Embedding(60000, 400, padding_idx=1)\n",
       "      )\n",
       "      (rnns): ModuleList(\n",
       "        (0): WeightDropout(\n",
       "          (module): LSTM(400, 1152, batch_first=True)\n",
       "        )\n",
       "        (1): WeightDropout(\n",
       "          (module): LSTM(1152, 1152, batch_first=True)\n",
       "        )\n",
       "        (2): WeightDropout(\n",
       "          (module): LSTM(1152, 400, batch_first=True)\n",
       "        )\n",
       "      )\n",
       "      (input_dp): RNNDropout()\n",
       "      (hidden_dps): ModuleList(\n",
       "        (0): RNNDropout()\n",
       "        (1): RNNDropout()\n",
       "        (2): RNNDropout()\n",
       "      )\n",
       "    )\n",
       "  )\n",
       "  (1): PoolingLinearClassifier(\n",
       "    (layers): Sequential(\n",
       "      (0): BatchNorm1d(1200, eps=1e-05, momentum=0.1, affine=True, track_running_stats=True)\n",
       "      (1): Dropout(p=0.2, inplace=False)\n",
       "      (2): Linear(in_features=1200, out_features=50, bias=True)\n",
       "      (3): ReLU(inplace=True)\n",
       "      (4): BatchNorm1d(50, eps=1e-05, momentum=0.1, affine=True, track_running_stats=True)\n",
       "      (5): Dropout(p=0.1, inplace=False)\n",
       "      (6): Linear(in_features=50, out_features=2, bias=True)\n",
       "    )\n",
       "  )\n",
       "), opt_func=functools.partial(<class 'torch.optim.adam.Adam'>, betas=(0.9, 0.99)), loss_func=FlattenedLoss of CrossEntropyLoss(), metrics=[<function accuracy at 0x7fe10f6be3b0>], true_wd=True, bn_wd=True, wd=0.01, train_bn=True, path=PosixPath('/home/jupyter/.fastai/data/imdb'), model_dir='models', callback_fns=[functools.partial(<class 'fastai.basic_train.Recorder'>, add_time=True, silent=False)], callbacks=[RNNTrainer\n",
       "learn: ...\n",
       "alpha: 2.0\n",
       "beta: 1.0], layer_groups=[Sequential(\n",
       "  (0): Embedding(60000, 400, padding_idx=1)\n",
       "  (1): EmbeddingDropout(\n",
       "    (emb): Embedding(60000, 400, padding_idx=1)\n",
       "  )\n",
       "), Sequential(\n",
       "  (0): WeightDropout(\n",
       "    (module): LSTM(400, 1152, batch_first=True)\n",
       "  )\n",
       "  (1): RNNDropout()\n",
       "), Sequential(\n",
       "  (0): WeightDropout(\n",
       "    (module): LSTM(1152, 1152, batch_first=True)\n",
       "  )\n",
       "  (1): RNNDropout()\n",
       "), Sequential(\n",
       "  (0): WeightDropout(\n",
       "    (module): LSTM(1152, 400, batch_first=True)\n",
       "  )\n",
       "  (1): RNNDropout()\n",
       "), Sequential(\n",
       "  (0): PoolingLinearClassifier(\n",
       "    (layers): Sequential(\n",
       "      (0): BatchNorm1d(1200, eps=1e-05, momentum=0.1, affine=True, track_running_stats=True)\n",
       "      (1): Dropout(p=0.2, inplace=False)\n",
       "      (2): Linear(in_features=1200, out_features=50, bias=True)\n",
       "      (3): ReLU(inplace=True)\n",
       "      (4): BatchNorm1d(50, eps=1e-05, momentum=0.1, affine=True, track_running_stats=True)\n",
       "      (5): Dropout(p=0.1, inplace=False)\n",
       "      (6): Linear(in_features=50, out_features=2, bias=True)\n",
       "    )\n",
       "  )\n",
       ")], add_time=True, silent=False, cb_fns_registered=False)"
      ]
     },
     "execution_count": 8,
     "metadata": {},
     "output_type": "execute_result"
    }
   ],
   "source": [
    "learn.load('third')"
   ]
  },
  {
   "cell_type": "code",
   "execution_count": 9,
   "metadata": {},
   "outputs": [
    {
     "data": {
      "text/plain": [
       "(Category pos, tensor(1), tensor([0.2062, 0.7938]))"
      ]
     },
     "execution_count": 9,
     "metadata": {},
     "output_type": "execute_result"
    }
   ],
   "source": [
    "learn.predict('mindhunter is awesome')"
   ]
  },
  {
   "cell_type": "markdown",
   "metadata": {},
   "source": [
    "### Process some tweets"
   ]
  },
  {
   "cell_type": "code",
   "execution_count": 49,
   "metadata": {},
   "outputs": [],
   "source": [
    "import pathlib\n",
    "import json\n",
    "import numpy as np\n",
    "import pandas as pd\n",
    "from IPython.display import display"
   ]
  },
  {
   "cell_type": "code",
   "execution_count": 11,
   "metadata": {},
   "outputs": [],
   "source": [
    "tweet_path = pathlib.Path('/home/jupyter/my_projects/tv_tweets/')"
   ]
  },
  {
   "cell_type": "code",
   "execution_count": 13,
   "metadata": {},
   "outputs": [],
   "source": [
    "programs = [{'name':'mindhunter','file':'mindhunter_tweets.json'},\n",
    "           {'name':'designated survivor','file':'des_sur_tweets.json'},\n",
    "           {'name':'the i-land','file':'i_land_tweets.json'},\n",
    "           {'name':'another life','file':'al_tweets.json'},]"
   ]
  },
  {
   "cell_type": "code",
   "execution_count": 52,
   "metadata": {},
   "outputs": [],
   "source": [
    "tweet_file = tweet_path / 'al_tweets.json'"
   ]
  },
  {
   "cell_type": "code",
   "execution_count": 53,
   "metadata": {},
   "outputs": [],
   "source": [
    "with open(tweet_file,'r') as f:\n",
    "    tweets = json.load(f)"
   ]
  },
  {
   "cell_type": "code",
   "execution_count": 54,
   "metadata": {},
   "outputs": [
    {
     "data": {
      "text/plain": [
       "100"
      ]
     },
     "execution_count": 54,
     "metadata": {},
     "output_type": "execute_result"
    }
   ],
   "source": [
    "len(tweets)"
   ]
  },
  {
   "cell_type": "code",
   "execution_count": 55,
   "metadata": {},
   "outputs": [
    {
     "name": "stdout",
     "output_type": "stream",
     "text": [
      "recently watched Another Life on @netflix and i really liked it. i dont get all the hate. Sure its not Star Wars, b… https://t.co/7y6bWiz8pk\n",
      "(Category pos, tensor(1), tensor([0.0227, 0.9773]))\n",
      "@jasonrdavis I’m afraid for a channel heavy in sci fi, most of the Netflix shows are shite. ST Discovery rides a co… https://t.co/DzxI71PQXx\n",
      "(Category neg, tensor(0), tensor([0.6372, 0.3628]))\n",
      "RT @RedFiddler: I just tried to watch Another Life on Netflix. In the first episode, the female protagonist - the captain of an intergalact…\n",
      "(Category neg, tensor(0), tensor([0.7742, 0.2258]))\n",
      "#Netflix’s IN THE TALL GRASS Trailer Brings Another #StephenKing Tale To Life\n",
      "\n",
      "#IntheTallGrass https://t.co/eRLgKyyWyU\n",
      "(Category pos, tensor(1), tensor([0.2441, 0.7559]))\n",
      "I just tried to watch Another Life on Netflix. In the first episode, the female protagonist - the captain of an int… https://t.co/D9D7KTNMpE\n",
      "(Category pos, tensor(1), tensor([0.4383, 0.5617]))\n"
     ]
    }
   ],
   "source": [
    "for t in tweets[0:5]:\n",
    "    print(t)\n",
    "    print(learn.predict(t))"
   ]
  },
  {
   "cell_type": "code",
   "execution_count": 35,
   "metadata": {},
   "outputs": [],
   "source": [
    "def get_scores(tweets):\n",
    "    \n",
    "    cats = []\n",
    "    scores = []\n",
    "    \n",
    "    for tweet in tweets:\n",
    "        cat, ten, score = learn.predict(tweet)\n",
    "    \n",
    "        cats.append(cat.__str__())\n",
    "        scores.append(score[ten].item())\n",
    "        \n",
    "    return cats, scores\n",
    "    \n",
    "    "
   ]
  },
  {
   "cell_type": "code",
   "execution_count": 36,
   "metadata": {},
   "outputs": [],
   "source": [
    "cats, scores = get_scores(tweets)"
   ]
  },
  {
   "cell_type": "code",
   "execution_count": 43,
   "metadata": {},
   "outputs": [
    {
     "data": {
      "text/html": [
       "<div>\n",
       "<style scoped>\n",
       "    .dataframe tbody tr th:only-of-type {\n",
       "        vertical-align: middle;\n",
       "    }\n",
       "\n",
       "    .dataframe tbody tr th {\n",
       "        vertical-align: top;\n",
       "    }\n",
       "\n",
       "    .dataframe thead th {\n",
       "        text-align: right;\n",
       "    }\n",
       "</style>\n",
       "<table border=\"1\" class=\"dataframe\">\n",
       "  <thead>\n",
       "    <tr style=\"text-align: right;\">\n",
       "      <th></th>\n",
       "      <th>Categories</th>\n",
       "      <th>Scores</th>\n",
       "    </tr>\n",
       "  </thead>\n",
       "  <tbody>\n",
       "    <tr>\n",
       "      <th>0</th>\n",
       "      <td>neg</td>\n",
       "      <td>0.696478</td>\n",
       "    </tr>\n",
       "    <tr>\n",
       "      <th>1</th>\n",
       "      <td>neg</td>\n",
       "      <td>0.828244</td>\n",
       "    </tr>\n",
       "    <tr>\n",
       "      <th>2</th>\n",
       "      <td>pos</td>\n",
       "      <td>0.679582</td>\n",
       "    </tr>\n",
       "    <tr>\n",
       "      <th>3</th>\n",
       "      <td>pos</td>\n",
       "      <td>0.542215</td>\n",
       "    </tr>\n",
       "    <tr>\n",
       "      <th>4</th>\n",
       "      <td>neg</td>\n",
       "      <td>0.507333</td>\n",
       "    </tr>\n",
       "  </tbody>\n",
       "</table>\n",
       "</div>"
      ],
      "text/plain": [
       "  Categories    Scores\n",
       "0        neg  0.696478\n",
       "1        neg  0.828244\n",
       "2        pos  0.679582\n",
       "3        pos  0.542215\n",
       "4        neg  0.507333"
      ]
     },
     "execution_count": 43,
     "metadata": {},
     "output_type": "execute_result"
    }
   ],
   "source": [
    "df = pd.DataFrame(data={'Categories':cats,'Scores':scores})\n",
    "df.head()"
   ]
  },
  {
   "cell_type": "code",
   "execution_count": 47,
   "metadata": {},
   "outputs": [
    {
     "data": {
      "text/html": [
       "<div>\n",
       "<style scoped>\n",
       "    .dataframe tbody tr th:only-of-type {\n",
       "        vertical-align: middle;\n",
       "    }\n",
       "\n",
       "    .dataframe tbody tr th {\n",
       "        vertical-align: top;\n",
       "    }\n",
       "\n",
       "    .dataframe thead th {\n",
       "        text-align: right;\n",
       "    }\n",
       "</style>\n",
       "<table border=\"1\" class=\"dataframe\">\n",
       "  <thead>\n",
       "    <tr style=\"text-align: right;\">\n",
       "      <th></th>\n",
       "      <th>Categories</th>\n",
       "      <th>Scores</th>\n",
       "    </tr>\n",
       "    <tr>\n",
       "      <th>Categories</th>\n",
       "      <th></th>\n",
       "      <th></th>\n",
       "    </tr>\n",
       "  </thead>\n",
       "  <tbody>\n",
       "    <tr>\n",
       "      <th>neg</th>\n",
       "      <td>39</td>\n",
       "      <td>0.674914</td>\n",
       "    </tr>\n",
       "    <tr>\n",
       "      <th>pos</th>\n",
       "      <td>61</td>\n",
       "      <td>0.721752</td>\n",
       "    </tr>\n",
       "  </tbody>\n",
       "</table>\n",
       "</div>"
      ],
      "text/plain": [
       "            Categories    Scores\n",
       "Categories                      \n",
       "neg                 39  0.674914\n",
       "pos                 61  0.721752"
      ]
     },
     "execution_count": 47,
     "metadata": {},
     "output_type": "execute_result"
    }
   ],
   "source": [
    "df.groupby('Categories').agg({'Categories':len,'Scores':np.mean})"
   ]
  },
  {
   "cell_type": "code",
   "execution_count": 50,
   "metadata": {},
   "outputs": [
    {
     "name": "stdout",
     "output_type": "stream",
     "text": [
      "mindhunter\n"
     ]
    },
    {
     "data": {
      "text/html": [
       "<div>\n",
       "<style scoped>\n",
       "    .dataframe tbody tr th:only-of-type {\n",
       "        vertical-align: middle;\n",
       "    }\n",
       "\n",
       "    .dataframe tbody tr th {\n",
       "        vertical-align: top;\n",
       "    }\n",
       "\n",
       "    .dataframe thead th {\n",
       "        text-align: right;\n",
       "    }\n",
       "</style>\n",
       "<table border=\"1\" class=\"dataframe\">\n",
       "  <thead>\n",
       "    <tr style=\"text-align: right;\">\n",
       "      <th></th>\n",
       "      <th>Categories</th>\n",
       "      <th>Scores</th>\n",
       "    </tr>\n",
       "    <tr>\n",
       "      <th>Categories</th>\n",
       "      <th></th>\n",
       "      <th></th>\n",
       "    </tr>\n",
       "  </thead>\n",
       "  <tbody>\n",
       "    <tr>\n",
       "      <th>neg</th>\n",
       "      <td>39</td>\n",
       "      <td>0.674914</td>\n",
       "    </tr>\n",
       "    <tr>\n",
       "      <th>pos</th>\n",
       "      <td>61</td>\n",
       "      <td>0.721752</td>\n",
       "    </tr>\n",
       "  </tbody>\n",
       "</table>\n",
       "</div>"
      ],
      "text/plain": [
       "            Categories    Scores\n",
       "Categories                      \n",
       "neg                 39  0.674914\n",
       "pos                 61  0.721752"
      ]
     },
     "metadata": {},
     "output_type": "display_data"
    },
    {
     "name": "stdout",
     "output_type": "stream",
     "text": [
      "designated survivor\n"
     ]
    },
    {
     "data": {
      "text/html": [
       "<div>\n",
       "<style scoped>\n",
       "    .dataframe tbody tr th:only-of-type {\n",
       "        vertical-align: middle;\n",
       "    }\n",
       "\n",
       "    .dataframe tbody tr th {\n",
       "        vertical-align: top;\n",
       "    }\n",
       "\n",
       "    .dataframe thead th {\n",
       "        text-align: right;\n",
       "    }\n",
       "</style>\n",
       "<table border=\"1\" class=\"dataframe\">\n",
       "  <thead>\n",
       "    <tr style=\"text-align: right;\">\n",
       "      <th></th>\n",
       "      <th>Categories</th>\n",
       "      <th>Scores</th>\n",
       "    </tr>\n",
       "    <tr>\n",
       "      <th>Categories</th>\n",
       "      <th></th>\n",
       "      <th></th>\n",
       "    </tr>\n",
       "  </thead>\n",
       "  <tbody>\n",
       "    <tr>\n",
       "      <th>neg</th>\n",
       "      <td>35</td>\n",
       "      <td>0.714103</td>\n",
       "    </tr>\n",
       "    <tr>\n",
       "      <th>pos</th>\n",
       "      <td>65</td>\n",
       "      <td>0.755773</td>\n",
       "    </tr>\n",
       "  </tbody>\n",
       "</table>\n",
       "</div>"
      ],
      "text/plain": [
       "            Categories    Scores\n",
       "Categories                      \n",
       "neg                 35  0.714103\n",
       "pos                 65  0.755773"
      ]
     },
     "metadata": {},
     "output_type": "display_data"
    },
    {
     "name": "stdout",
     "output_type": "stream",
     "text": [
      "the i-land\n"
     ]
    },
    {
     "data": {
      "text/html": [
       "<div>\n",
       "<style scoped>\n",
       "    .dataframe tbody tr th:only-of-type {\n",
       "        vertical-align: middle;\n",
       "    }\n",
       "\n",
       "    .dataframe tbody tr th {\n",
       "        vertical-align: top;\n",
       "    }\n",
       "\n",
       "    .dataframe thead th {\n",
       "        text-align: right;\n",
       "    }\n",
       "</style>\n",
       "<table border=\"1\" class=\"dataframe\">\n",
       "  <thead>\n",
       "    <tr style=\"text-align: right;\">\n",
       "      <th></th>\n",
       "      <th>Categories</th>\n",
       "      <th>Scores</th>\n",
       "    </tr>\n",
       "    <tr>\n",
       "      <th>Categories</th>\n",
       "      <th></th>\n",
       "      <th></th>\n",
       "    </tr>\n",
       "  </thead>\n",
       "  <tbody>\n",
       "    <tr>\n",
       "      <th>neg</th>\n",
       "      <td>59</td>\n",
       "      <td>0.772427</td>\n",
       "    </tr>\n",
       "    <tr>\n",
       "      <th>pos</th>\n",
       "      <td>41</td>\n",
       "      <td>0.763920</td>\n",
       "    </tr>\n",
       "  </tbody>\n",
       "</table>\n",
       "</div>"
      ],
      "text/plain": [
       "            Categories    Scores\n",
       "Categories                      \n",
       "neg                 59  0.772427\n",
       "pos                 41  0.763920"
      ]
     },
     "metadata": {},
     "output_type": "display_data"
    },
    {
     "name": "stdout",
     "output_type": "stream",
     "text": [
      "another life\n"
     ]
    },
    {
     "data": {
      "text/html": [
       "<div>\n",
       "<style scoped>\n",
       "    .dataframe tbody tr th:only-of-type {\n",
       "        vertical-align: middle;\n",
       "    }\n",
       "\n",
       "    .dataframe tbody tr th {\n",
       "        vertical-align: top;\n",
       "    }\n",
       "\n",
       "    .dataframe thead th {\n",
       "        text-align: right;\n",
       "    }\n",
       "</style>\n",
       "<table border=\"1\" class=\"dataframe\">\n",
       "  <thead>\n",
       "    <tr style=\"text-align: right;\">\n",
       "      <th></th>\n",
       "      <th>Categories</th>\n",
       "      <th>Scores</th>\n",
       "    </tr>\n",
       "    <tr>\n",
       "      <th>Categories</th>\n",
       "      <th></th>\n",
       "      <th></th>\n",
       "    </tr>\n",
       "  </thead>\n",
       "  <tbody>\n",
       "    <tr>\n",
       "      <th>neg</th>\n",
       "      <td>31</td>\n",
       "      <td>0.761778</td>\n",
       "    </tr>\n",
       "    <tr>\n",
       "      <th>pos</th>\n",
       "      <td>69</td>\n",
       "      <td>0.783529</td>\n",
       "    </tr>\n",
       "  </tbody>\n",
       "</table>\n",
       "</div>"
      ],
      "text/plain": [
       "            Categories    Scores\n",
       "Categories                      \n",
       "neg                 31  0.761778\n",
       "pos                 69  0.783529"
      ]
     },
     "metadata": {},
     "output_type": "display_data"
    }
   ],
   "source": [
    "for program in programs:\n",
    "    print(program['name'])\n",
    "    \n",
    "    #load tweets\n",
    "    tweet_file = tweet_path / program['file']\n",
    "    \n",
    "    with open(tweet_file,'r') as f:\n",
    "        tweets = json.load(f)\n",
    "    \n",
    "    cats, scores = get_scores(tweets)\n",
    "    df = pd.DataFrame(data={'Categories':cats,'Scores':scores})\n",
    "    display(df.groupby('Categories').agg({'Categories':len,'Scores':np.mean}))\n",
    "    "
   ]
  },
  {
   "cell_type": "code",
   "execution_count": null,
   "metadata": {},
   "outputs": [],
   "source": []
  }
 ],
 "metadata": {
  "kernelspec": {
   "display_name": "Python 3",
   "language": "python",
   "name": "python3"
  },
  "language_info": {
   "codemirror_mode": {
    "name": "ipython",
    "version": 3
   },
   "file_extension": ".py",
   "mimetype": "text/x-python",
   "name": "python",
   "nbconvert_exporter": "python",
   "pygments_lexer": "ipython3",
   "version": "3.7.4"
  }
 },
 "nbformat": 4,
 "nbformat_minor": 2
}
