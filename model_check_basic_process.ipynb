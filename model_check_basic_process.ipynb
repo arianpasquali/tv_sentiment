{
 "cells": [
  {
   "cell_type": "code",
   "execution_count": 1,
   "metadata": {},
   "outputs": [],
   "source": [
    "%reload_ext autoreload\n",
    "%autoreload 2\n",
    "%matplotlib inline"
   ]
  },
  {
   "cell_type": "code",
   "execution_count": 2,
   "metadata": {},
   "outputs": [],
   "source": [
    "from fastai.text import *"
   ]
  },
  {
   "cell_type": "markdown",
   "metadata": {},
   "source": [
    "### Load the prediction model and test"
   ]
  },
  {
   "cell_type": "code",
   "execution_count": 3,
   "metadata": {},
   "outputs": [],
   "source": [
    "path = untar_data(URLs.IMDB)"
   ]
  },
  {
   "cell_type": "code",
   "execution_count": 4,
   "metadata": {},
   "outputs": [],
   "source": [
    "bs = 48"
   ]
  },
  {
   "cell_type": "code",
   "execution_count": 5,
   "metadata": {},
   "outputs": [],
   "source": [
    "data_clas = load_data(path, 'data_clas.pkl', bs=bs) # this loads the vocabulary into a data classifier databunch"
   ]
  },
  {
   "cell_type": "code",
   "execution_count": 6,
   "metadata": {},
   "outputs": [],
   "source": [
    "# here we create a classifier using the vocab of the language model (the databunch) and the base model AWD_LSTM\n",
    "learn = text_classifier_learner(data_clas, AWD_LSTM, drop_mult=0.5).to_fp16() "
   ]
  },
  {
   "cell_type": "code",
   "execution_count": 8,
   "metadata": {},
   "outputs": [
    {
     "data": {
      "text/plain": [
       "RNNLearner(data=TextClasDataBunch;\n",
       "\n",
       "Train: LabelList (25000 items)\n",
       "x: TextList\n",
       "xxbos i find i enjoy this show , but the format needs some work . xxmaj first off , the good attributes . i like how this show will take us through the day - to - day life of an addict because the producers have a knack at getting the addict to show us how bad they 've allowed their lives to become . xxmaj this is followed by an intervention which is then followed by an outcome . xxmaj intervention does n't candy - coat things and sometimes the outcome ( often short term due to the constraints of time between filming and airing ) is a negative outcome . xxmaj this makes the positive outcomes all the better . \n",
       " \n",
       "  xxmaj another thing i like about the show is the quality of the camera work . xxmaj given the reality that these cameramen have to squeeze anywhere and do n't have the benefit of re shooting scenes the photography is surprisingly good and stable . xxmaj it 's actually superior to scripted shows like \" xxmaj the xxmaj shield \" where the photography is so bad it can induce nausea . \n",
       " \n",
       "  xxmaj now for the bad . xxmaj an episode will sometimes contain two completely different and unrelated cases that will be mixed together during the show . xxmaj you 'll get caught up in the story of one addict then suddenly you 're thrown into the story of another . xxmaj get caught up in that story then suddenly you 're back to the first addict ... or are you ? xxmaj by now you may have forgotten which case the individual currently on screen belong to . xxmaj this constant flip - flopping between addicts really gets disruptive during the intervention scenes because the show will even mix together the two completely unrelated interventions ! i once heard the marketing xxup b.s. reason for this poor design : \" xxmaj the show can get so intense that switching to another addict allows the viewer time to absorb what they 're watching . \" xxmaj oh please . xxmaj clearly the reason this is done is because they have two cases that are n't big enough for an hour show so they mix two together . xxmaj by mixing them instead of giving each a half hour block , like they should , it forces the viewer to watch the entire thing ( and the commercials ) if they are interested in one case but not the other . \n",
       " \n",
       "  i used to find these \" blender \" episodes so annoying that i 'd only tell my tivo to record episodes containing one addict , but then it became easier just to record all of them .,xxbos i love this movie . i mean the story may not be the best , but the dancing most certainly makes up for it . xxmaj you get to know a little bit about each character the way xxup they want you to learn about them . i just think that you wo n't like this movie unless you 're into xxmaj broadway ...,xxbos xxmaj this is a great movie . xxmaj in the same genre of the \" xxmaj memphis xxmaj belle \" . xxmaj seen it about 10 years ago . xxmaj and would like to see it again . xxmaj there is a link with the history of the hells angels ! ! xxmaj how the pilot crew fight the xxmaj germans in xxup xxunk . xxmaj and most xxmaj changes form pilots to xxmaj harley motor cycle rs . xxmaj the movie is in a way really happened . xxmaj see the movie ! xxmaj and reed the history of the hells angels at hells at hells xxunk xxmaj regards xxmaj frederik . \n",
       " \n",
       "  xxmaj cast & xxmaj crew : xxmaj john xxmaj stamos , xxmaj john xxmaj stockwell , xxmaj teri xxmaj polo , xxmaj kris xxmaj xxunk , directed by xxmaj graham xxmaj baker more » xxmaj synopsis : xxmaj the story of a rowdy backwoods rebel biker who joins the xxmaj army to avoid a stiff prison sentence after a minor brush with the law . xxmaj though he chafes at xxmaj army discipline , he soon proves himself under fire as a daring and charismatic leader of men in a xxmaj motorcycle xxmaj scout xxmaj troop in pr - xxmaj world xxmaj war xxup ii xxmaj spain . more » xxup mpaa xxmaj rating : xxup pg xxmaj runtime : 88 minutes,xxbos xxmaj great movie , enough laughs and action for any audience . \n",
       " \n",
       "  xxmaj since the last person who posted on this movie took it upon themselves to call xxmaj woody xxmaj allen incestuous and not comment on the film , here i am . \n",
       " \n",
       "  xxmaj the film follows an unlikely duo , xxmaj johansson and xxmaj allen , as they follow a tip given to them by the ghost of a recently deceased xxmaj english reporter . xxmaj their search takes them into the home of the killer , and eventually to a somewhat tragic end . xxmaj but do n't let the plot fool you , the film truly is hilarious and the acting is superb . \n",
       " \n",
       "  xxmaj it seems that as directors reach a certain age they really get things right . xxmaj clint xxmaj eastwood , xxmaj allen and xxmaj pollack all seem to making some of the most imaginative work of their respective careers . xxmaj also , from watching the movie in a pact theater , you can just tell that people really love xxmaj woody xxmaj allen and are ready for him to really make a comeback . xxmaj the second he walked on screen audience lit up . xxmaj there 's just something about the man and he really shines in xxmaj scoop . \n",
       " \n",
       "  xxmaj check it out , it 's worth the trip .,xxbos xxmaj this is a great show , and will make you cry , this group people really loved each other in real life and it shows time and time again . xxmaj email me and let 's chat . i have been to xxmaj australia and they real do talk like this . \n",
       " \n",
       "  i want you to enjoy xxmaj five xxmaj mile xxmaj creek and pass on these great stories of right and wrong , and friendship to your kids . i have all 40 xxmaj episodes on xxup dvd - r that i have collected over the last 5 years . xxmaj see my xxmaj five xxmaj mile xxmaj creek tribute at xxunk and hear the extended theme music . xxmaj let 's talk about them . \n",
       " \n",
       "  xxmaj these people are so cool !\n",
       "y: CategoryList\n",
       "pos,pos,pos,pos,pos\n",
       "Path: /home/jjc/.fastai/data/imdb;\n",
       "\n",
       "Valid: LabelList (25000 items)\n",
       "x: TextList\n",
       "xxbos xxmaj this movie has two new features in relation to the message conveyed by other equally good movies about death penalty and executions . xxmaj those are the stress also given to the drama endured by victims ' parents -- without for that reason disguising the hatred and desire of revenge they feel or lessening the horror that execution represents -- and the xxmaj christian vision of all the questions implied . xxmaj we must also point out that in this movie the sentenced man is not the usual nice innocent person we see in other movies dealing with executions which does n't lead us to abandon the idea that a penal execution is no more than a legal murder anyway . xxmaj last but not least we must mention the extraordinary emotional weight put on the last moments of the execution course with all the catharsis shown by the convicted 's last words and the detail with which the act of the execution itself is viewed in a parallel cut with images of the murder scenes in the forest to stress that we are being confronted with another murder so pitiless as the latter but performed in a cold and supposed \" legal \" way .,xxbos a political satire of a comedian ( xxmaj williams ) who after dissing the political campaigns and presidents is forced into the running . xxmaj but shockingly we wins and makes a mockery of the office . \" xxmaj man of the xxmaj year \" is not the funniest movie nor the best but in small doses it does work . xxmaj williams again teaming with xxmaj levinson after a hit with \" xxmaj good xxmaj morning , xxmaj vietnam \" . xxmaj the two seem to have a great chemistry and work off each other . i am not comparing them to xxmaj scorsese and deniro but you can get the picture . xxmaj although i would n't quite say to rush out there and see the movie in theaters i would recommend renting it . xxmaj this movie is a comedy but also has a great satire , please if you like movies like \" xxmaj scary xxmaj movie 4 \" this is not for you , take your brain with you to see it . - * * *,xxbos 80 's comedies ( especially ones with xxmaj john xxmaj cusak ) are awesome . xxmaj almost all are hillarious and instant classics and this film is no exception . xxmaj plenty of nods to other films ( i.e. xxmaj godzilla and xxmaj jaws ) through out the movie that are so hillarious you 'll be laughing for hours . xxmaj some may complain that the movie is a little corny at times but hey it was the 80 's and things were always a little cheesy . xxmaj throw in a young xxmaj demi xxmaj moore and an even louder xxmaj bob xxmaj cat and you have a laughfest on your fans . xxmaj if you have n't seen this , you better soon xxrep 6 !,xxbos i ca n't see how a film of this quality only gets an average of 5.7 from imdb voters . xxmaj it 's a classic xxmaj australian production that resembles recent efforts such as xxup love xxup and xxup other xxup catastrophes , xxup the xxup sugar xxup factory , xxup occasional xxup coarse xxup language , xxup russian xxup doll , xxup sample xxup people , xxup the xxup secret xxup life xxup of xxup us , xxup la xxup spagnola , xxup strange xxup planet , xxup fresh xxup air , xxup dust xxup off xxup the xxup wings , xxup doing xxup time xxup for xxup patsy xxup cline , etc ... , as a 19-year - old uni student ( xxmaj newton , in perhaps his best role yet , on par with xxup changi at least ) with a bored , over - religious mother gets the shock of his life when she decides to enrol in the same course as him - and before you go thinking xxup another xxup goofy xxup movie , it 's not , there 's some real substance here . xxmaj sure , it 's a simplistic view of life in general and arts students in particular ( but then they are rather simplistic under all that philosophical mumbo - jumbo are n't they ? ) , and maybe the study of xxmaj sinead xxmaj cusack 's character is a little muddled at times , but the film is bright , funny , and has some important messages . xxmaj the principle cast is terrific : xxmaj cusack and xxmaj newton are wonderful , and xxmaj rose xxmaj byrne ( see her also in xxup the xxup goddess xxup of 1967 ) is so underrated it 's not funny . xxmaj she 's a beautiful , fresh , confident actor who deserves every accolade she receives . i gave xxup my xxup mother xxup frank 8 / 10 .,xxbos xxmaj america 's xxmaj next xxmaj top xxmaj model is a great reality show in every sense . xxmaj it has a great hostess , has great guests , a great production and some of the best professionals of the modeling world contributing for something they had n't achieved yet : present a true xxmaj america 's xxmaj next xxmaj top xxmaj model . xxmaj of course this is not something easy to do , therefore xxup usa and the world already would have 10 top models xxunk and fighting between themselves in this cruel world . \n",
       " \n",
       "  xxmaj but it 's obvious that its intention is not to present the xxmaj america 's next top model , but yes , the xxmaj america 's xxmaj next xxmaj pop xxmaj model . xxmaj the show gets together a bunch of models without any experience with different personalities and big personal , professional and financial problems , giving them a chance for bringing to life a dream or to make their lives something worthy . xxmaj it 's obvious that xxmaj tyra xxmaj banks uses all that for her advantage , she gives the dream , but in exchange for that she gains audience and more popularity . xxmaj anyway , she deserves it , because she is intelligent and , if i might say that , a pioneer to this kind of show . xxmaj tyra also is a great observer and knows how to give based opinions , differing herself of other models and hostess of foreign versions of the xxup next xxup top xxup model franchise . xxmaj in xxmaj brazil , as an example , xxmaj fernanda xxmaj xxunk is its hostess and \" once - upon - a - xxunk xxmaj model . xxmaj she does n't have even 1 / 10 of xxmaj tyra 's professional skills , which keeps xxmaj tyra xxmaj banks on the top . xxmaj tyra have professional and personal knowledge about what she says and she 's a great mentor because she not only criticizes but she points the mistake and teaches the right way with wisdom . \n",
       " \n",
       "  xxmaj the show does n't suffer from big problems , it does and fulfills what it promises during the cycles . xxmaj the models chosen to work on the show in fact are not the best unknown models of entire country because xxmaj tyra xxmaj banks bets with the difference , and she is right , because she ( and also good part of her audience ) believes that it 's time for the modeling world to change some straight parameters . xxmaj during the cycles , she and her team really makes fair xxunk , where the weakest go away and the promising ones have new chances to prove their capacities but must be fast to do that , otherwise they lose it . \n",
       " \n",
       "  xxmaj other very interesting thing is that xxmaj tyra also knows to decide who should or should n't win even when she 's against people 's opinion . xxmaj she knows that whoever wins will be famous , but has a very few possibilities to truly be a worldwide recognized top model . xxmaj at the same way she knows that , some times , the second place is more valuable than the first , because 1st place wins the title , but second does n't gets the title stigma . xxmaj hardly she makes mistakes when she decides the future of any model during the show . \n",
       " \n",
       "  xxmaj after 9 cycles the show is getting a little tired with some old ideas , it 's time for xxmaj tyra to change some things and lines because it 's getting boring and comparing to the firsts cycles we can see that she 's getting bored too , so she needs to do that if she wants the show to live a little longer . \n",
       " \n",
       "  xxmaj anyway , the show explores the fashion and modeling world , but it 's also entertaining for those ones that live outside all of that . xxmaj it gives the opportunity for some girls and also the market , and also gives great tips for those ones from the audience who shares the same dream .\n",
       "y: CategoryList\n",
       "pos,pos,pos,pos,pos\n",
       "Path: /home/jjc/.fastai/data/imdb;\n",
       "\n",
       "Test: None, model=SequentialRNN(\n",
       "  (0): MultiBatchEncoder(\n",
       "    (module): AWD_LSTM(\n",
       "      (encoder): Embedding(60000, 400, padding_idx=1)\n",
       "      (encoder_dp): EmbeddingDropout(\n",
       "        (emb): Embedding(60000, 400, padding_idx=1)\n",
       "      )\n",
       "      (rnns): ModuleList(\n",
       "        (0): WeightDropout(\n",
       "          (module): LSTM(400, 1152, batch_first=True)\n",
       "        )\n",
       "        (1): WeightDropout(\n",
       "          (module): LSTM(1152, 1152, batch_first=True)\n",
       "        )\n",
       "        (2): WeightDropout(\n",
       "          (module): LSTM(1152, 400, batch_first=True)\n",
       "        )\n",
       "      )\n",
       "      (input_dp): RNNDropout()\n",
       "      (hidden_dps): ModuleList(\n",
       "        (0): RNNDropout()\n",
       "        (1): RNNDropout()\n",
       "        (2): RNNDropout()\n",
       "      )\n",
       "    )\n",
       "  )\n",
       "  (1): PoolingLinearClassifier(\n",
       "    (layers): Sequential(\n",
       "      (0): BatchNorm1d(1200, eps=1e-05, momentum=0.1, affine=True, track_running_stats=True)\n",
       "      (1): Dropout(p=0.2, inplace=False)\n",
       "      (2): Linear(in_features=1200, out_features=50, bias=True)\n",
       "      (3): ReLU(inplace=True)\n",
       "      (4): BatchNorm1d(50, eps=1e-05, momentum=0.1, affine=True, track_running_stats=True)\n",
       "      (5): Dropout(p=0.1, inplace=False)\n",
       "      (6): Linear(in_features=50, out_features=2, bias=True)\n",
       "    )\n",
       "  )\n",
       "), opt_func=functools.partial(<class 'torch.optim.adam.Adam'>, betas=(0.9, 0.99)), loss_func=FlattenedLoss of CrossEntropyLoss(), metrics=[<function accuracy at 0x7f7a6f362290>], true_wd=True, bn_wd=True, wd=0.01, train_bn=True, path=PosixPath('/home/jjc/.fastai/data/imdb'), model_dir='models', callback_fns=[functools.partial(<class 'fastai.basic_train.Recorder'>, add_time=True, silent=False)], callbacks=[RNNTrainer\n",
       "learn: ...\n",
       "alpha: 2.0\n",
       "beta: 1.0, MixedPrecision\n",
       "learn: ...\n",
       "loss_scale: 65536\n",
       "max_noskip: 1000\n",
       "dynamic: True\n",
       "clip: None\n",
       "flat_master: False\n",
       "max_scale: 16777216\n",
       "loss_fp32: True], layer_groups=[Sequential(\n",
       "  (0): Embedding(60000, 400, padding_idx=1)\n",
       "  (1): EmbeddingDropout(\n",
       "    (emb): Embedding(60000, 400, padding_idx=1)\n",
       "  )\n",
       "), Sequential(\n",
       "  (0): WeightDropout(\n",
       "    (module): LSTM(400, 1152, batch_first=True)\n",
       "  )\n",
       "  (1): RNNDropout()\n",
       "), Sequential(\n",
       "  (0): WeightDropout(\n",
       "    (module): LSTM(1152, 1152, batch_first=True)\n",
       "  )\n",
       "  (1): RNNDropout()\n",
       "), Sequential(\n",
       "  (0): WeightDropout(\n",
       "    (module): LSTM(1152, 400, batch_first=True)\n",
       "  )\n",
       "  (1): RNNDropout()\n",
       "), Sequential(\n",
       "  (0): PoolingLinearClassifier(\n",
       "    (layers): Sequential(\n",
       "      (0): BatchNorm1d(1200, eps=1e-05, momentum=0.1, affine=True, track_running_stats=True)\n",
       "      (1): Dropout(p=0.2, inplace=False)\n",
       "      (2): Linear(in_features=1200, out_features=50, bias=True)\n",
       "      (3): ReLU(inplace=True)\n",
       "      (4): BatchNorm1d(50, eps=1e-05, momentum=0.1, affine=True, track_running_stats=True)\n",
       "      (5): Dropout(p=0.1, inplace=False)\n",
       "      (6): Linear(in_features=50, out_features=2, bias=True)\n",
       "    )\n",
       "  )\n",
       ")], add_time=True, silent=False)"
      ]
     },
     "execution_count": 8,
     "metadata": {},
     "output_type": "execute_result"
    }
   ],
   "source": [
    "# this loads the encoder from the language model - the part that converts text to vector form\n",
    "learn.load_encoder('fine_tuned_enc')"
   ]
  },
  {
   "cell_type": "code",
   "execution_count": 9,
   "metadata": {},
   "outputs": [
    {
     "data": {
      "text/plain": [
       "RNNLearner(data=TextClasDataBunch;\n",
       "\n",
       "Train: LabelList (25000 items)\n",
       "x: TextList\n",
       "xxbos i find i enjoy this show , but the format needs some work . xxmaj first off , the good attributes . i like how this show will take us through the day - to - day life of an addict because the producers have a knack at getting the addict to show us how bad they 've allowed their lives to become . xxmaj this is followed by an intervention which is then followed by an outcome . xxmaj intervention does n't candy - coat things and sometimes the outcome ( often short term due to the constraints of time between filming and airing ) is a negative outcome . xxmaj this makes the positive outcomes all the better . \n",
       " \n",
       "  xxmaj another thing i like about the show is the quality of the camera work . xxmaj given the reality that these cameramen have to squeeze anywhere and do n't have the benefit of re shooting scenes the photography is surprisingly good and stable . xxmaj it 's actually superior to scripted shows like \" xxmaj the xxmaj shield \" where the photography is so bad it can induce nausea . \n",
       " \n",
       "  xxmaj now for the bad . xxmaj an episode will sometimes contain two completely different and unrelated cases that will be mixed together during the show . xxmaj you 'll get caught up in the story of one addict then suddenly you 're thrown into the story of another . xxmaj get caught up in that story then suddenly you 're back to the first addict ... or are you ? xxmaj by now you may have forgotten which case the individual currently on screen belong to . xxmaj this constant flip - flopping between addicts really gets disruptive during the intervention scenes because the show will even mix together the two completely unrelated interventions ! i once heard the marketing xxup b.s. reason for this poor design : \" xxmaj the show can get so intense that switching to another addict allows the viewer time to absorb what they 're watching . \" xxmaj oh please . xxmaj clearly the reason this is done is because they have two cases that are n't big enough for an hour show so they mix two together . xxmaj by mixing them instead of giving each a half hour block , like they should , it forces the viewer to watch the entire thing ( and the commercials ) if they are interested in one case but not the other . \n",
       " \n",
       "  i used to find these \" blender \" episodes so annoying that i 'd only tell my tivo to record episodes containing one addict , but then it became easier just to record all of them .,xxbos i love this movie . i mean the story may not be the best , but the dancing most certainly makes up for it . xxmaj you get to know a little bit about each character the way xxup they want you to learn about them . i just think that you wo n't like this movie unless you 're into xxmaj broadway ...,xxbos xxmaj this is a great movie . xxmaj in the same genre of the \" xxmaj memphis xxmaj belle \" . xxmaj seen it about 10 years ago . xxmaj and would like to see it again . xxmaj there is a link with the history of the hells angels ! ! xxmaj how the pilot crew fight the xxmaj germans in xxup xxunk . xxmaj and most xxmaj changes form pilots to xxmaj harley motor cycle rs . xxmaj the movie is in a way really happened . xxmaj see the movie ! xxmaj and reed the history of the hells angels at hells at hells xxunk xxmaj regards xxmaj frederik . \n",
       " \n",
       "  xxmaj cast & xxmaj crew : xxmaj john xxmaj stamos , xxmaj john xxmaj stockwell , xxmaj teri xxmaj polo , xxmaj kris xxmaj xxunk , directed by xxmaj graham xxmaj baker more » xxmaj synopsis : xxmaj the story of a rowdy backwoods rebel biker who joins the xxmaj army to avoid a stiff prison sentence after a minor brush with the law . xxmaj though he chafes at xxmaj army discipline , he soon proves himself under fire as a daring and charismatic leader of men in a xxmaj motorcycle xxmaj scout xxmaj troop in pr - xxmaj world xxmaj war xxup ii xxmaj spain . more » xxup mpaa xxmaj rating : xxup pg xxmaj runtime : 88 minutes,xxbos xxmaj great movie , enough laughs and action for any audience . \n",
       " \n",
       "  xxmaj since the last person who posted on this movie took it upon themselves to call xxmaj woody xxmaj allen incestuous and not comment on the film , here i am . \n",
       " \n",
       "  xxmaj the film follows an unlikely duo , xxmaj johansson and xxmaj allen , as they follow a tip given to them by the ghost of a recently deceased xxmaj english reporter . xxmaj their search takes them into the home of the killer , and eventually to a somewhat tragic end . xxmaj but do n't let the plot fool you , the film truly is hilarious and the acting is superb . \n",
       " \n",
       "  xxmaj it seems that as directors reach a certain age they really get things right . xxmaj clint xxmaj eastwood , xxmaj allen and xxmaj pollack all seem to making some of the most imaginative work of their respective careers . xxmaj also , from watching the movie in a pact theater , you can just tell that people really love xxmaj woody xxmaj allen and are ready for him to really make a comeback . xxmaj the second he walked on screen audience lit up . xxmaj there 's just something about the man and he really shines in xxmaj scoop . \n",
       " \n",
       "  xxmaj check it out , it 's worth the trip .,xxbos xxmaj this is a great show , and will make you cry , this group people really loved each other in real life and it shows time and time again . xxmaj email me and let 's chat . i have been to xxmaj australia and they real do talk like this . \n",
       " \n",
       "  i want you to enjoy xxmaj five xxmaj mile xxmaj creek and pass on these great stories of right and wrong , and friendship to your kids . i have all 40 xxmaj episodes on xxup dvd - r that i have collected over the last 5 years . xxmaj see my xxmaj five xxmaj mile xxmaj creek tribute at xxunk and hear the extended theme music . xxmaj let 's talk about them . \n",
       " \n",
       "  xxmaj these people are so cool !\n",
       "y: CategoryList\n",
       "pos,pos,pos,pos,pos\n",
       "Path: /home/jjc/.fastai/data/imdb;\n",
       "\n",
       "Valid: LabelList (25000 items)\n",
       "x: TextList\n",
       "xxbos xxmaj this movie has two new features in relation to the message conveyed by other equally good movies about death penalty and executions . xxmaj those are the stress also given to the drama endured by victims ' parents -- without for that reason disguising the hatred and desire of revenge they feel or lessening the horror that execution represents -- and the xxmaj christian vision of all the questions implied . xxmaj we must also point out that in this movie the sentenced man is not the usual nice innocent person we see in other movies dealing with executions which does n't lead us to abandon the idea that a penal execution is no more than a legal murder anyway . xxmaj last but not least we must mention the extraordinary emotional weight put on the last moments of the execution course with all the catharsis shown by the convicted 's last words and the detail with which the act of the execution itself is viewed in a parallel cut with images of the murder scenes in the forest to stress that we are being confronted with another murder so pitiless as the latter but performed in a cold and supposed \" legal \" way .,xxbos a political satire of a comedian ( xxmaj williams ) who after dissing the political campaigns and presidents is forced into the running . xxmaj but shockingly we wins and makes a mockery of the office . \" xxmaj man of the xxmaj year \" is not the funniest movie nor the best but in small doses it does work . xxmaj williams again teaming with xxmaj levinson after a hit with \" xxmaj good xxmaj morning , xxmaj vietnam \" . xxmaj the two seem to have a great chemistry and work off each other . i am not comparing them to xxmaj scorsese and deniro but you can get the picture . xxmaj although i would n't quite say to rush out there and see the movie in theaters i would recommend renting it . xxmaj this movie is a comedy but also has a great satire , please if you like movies like \" xxmaj scary xxmaj movie 4 \" this is not for you , take your brain with you to see it . - * * *,xxbos 80 's comedies ( especially ones with xxmaj john xxmaj cusak ) are awesome . xxmaj almost all are hillarious and instant classics and this film is no exception . xxmaj plenty of nods to other films ( i.e. xxmaj godzilla and xxmaj jaws ) through out the movie that are so hillarious you 'll be laughing for hours . xxmaj some may complain that the movie is a little corny at times but hey it was the 80 's and things were always a little cheesy . xxmaj throw in a young xxmaj demi xxmaj moore and an even louder xxmaj bob xxmaj cat and you have a laughfest on your fans . xxmaj if you have n't seen this , you better soon xxrep 6 !,xxbos i ca n't see how a film of this quality only gets an average of 5.7 from imdb voters . xxmaj it 's a classic xxmaj australian production that resembles recent efforts such as xxup love xxup and xxup other xxup catastrophes , xxup the xxup sugar xxup factory , xxup occasional xxup coarse xxup language , xxup russian xxup doll , xxup sample xxup people , xxup the xxup secret xxup life xxup of xxup us , xxup la xxup spagnola , xxup strange xxup planet , xxup fresh xxup air , xxup dust xxup off xxup the xxup wings , xxup doing xxup time xxup for xxup patsy xxup cline , etc ... , as a 19-year - old uni student ( xxmaj newton , in perhaps his best role yet , on par with xxup changi at least ) with a bored , over - religious mother gets the shock of his life when she decides to enrol in the same course as him - and before you go thinking xxup another xxup goofy xxup movie , it 's not , there 's some real substance here . xxmaj sure , it 's a simplistic view of life in general and arts students in particular ( but then they are rather simplistic under all that philosophical mumbo - jumbo are n't they ? ) , and maybe the study of xxmaj sinead xxmaj cusack 's character is a little muddled at times , but the film is bright , funny , and has some important messages . xxmaj the principle cast is terrific : xxmaj cusack and xxmaj newton are wonderful , and xxmaj rose xxmaj byrne ( see her also in xxup the xxup goddess xxup of 1967 ) is so underrated it 's not funny . xxmaj she 's a beautiful , fresh , confident actor who deserves every accolade she receives . i gave xxup my xxup mother xxup frank 8 / 10 .,xxbos xxmaj america 's xxmaj next xxmaj top xxmaj model is a great reality show in every sense . xxmaj it has a great hostess , has great guests , a great production and some of the best professionals of the modeling world contributing for something they had n't achieved yet : present a true xxmaj america 's xxmaj next xxmaj top xxmaj model . xxmaj of course this is not something easy to do , therefore xxup usa and the world already would have 10 top models xxunk and fighting between themselves in this cruel world . \n",
       " \n",
       "  xxmaj but it 's obvious that its intention is not to present the xxmaj america 's next top model , but yes , the xxmaj america 's xxmaj next xxmaj pop xxmaj model . xxmaj the show gets together a bunch of models without any experience with different personalities and big personal , professional and financial problems , giving them a chance for bringing to life a dream or to make their lives something worthy . xxmaj it 's obvious that xxmaj tyra xxmaj banks uses all that for her advantage , she gives the dream , but in exchange for that she gains audience and more popularity . xxmaj anyway , she deserves it , because she is intelligent and , if i might say that , a pioneer to this kind of show . xxmaj tyra also is a great observer and knows how to give based opinions , differing herself of other models and hostess of foreign versions of the xxup next xxup top xxup model franchise . xxmaj in xxmaj brazil , as an example , xxmaj fernanda xxmaj xxunk is its hostess and \" once - upon - a - xxunk xxmaj model . xxmaj she does n't have even 1 / 10 of xxmaj tyra 's professional skills , which keeps xxmaj tyra xxmaj banks on the top . xxmaj tyra have professional and personal knowledge about what she says and she 's a great mentor because she not only criticizes but she points the mistake and teaches the right way with wisdom . \n",
       " \n",
       "  xxmaj the show does n't suffer from big problems , it does and fulfills what it promises during the cycles . xxmaj the models chosen to work on the show in fact are not the best unknown models of entire country because xxmaj tyra xxmaj banks bets with the difference , and she is right , because she ( and also good part of her audience ) believes that it 's time for the modeling world to change some straight parameters . xxmaj during the cycles , she and her team really makes fair xxunk , where the weakest go away and the promising ones have new chances to prove their capacities but must be fast to do that , otherwise they lose it . \n",
       " \n",
       "  xxmaj other very interesting thing is that xxmaj tyra also knows to decide who should or should n't win even when she 's against people 's opinion . xxmaj she knows that whoever wins will be famous , but has a very few possibilities to truly be a worldwide recognized top model . xxmaj at the same way she knows that , some times , the second place is more valuable than the first , because 1st place wins the title , but second does n't gets the title stigma . xxmaj hardly she makes mistakes when she decides the future of any model during the show . \n",
       " \n",
       "  xxmaj after 9 cycles the show is getting a little tired with some old ideas , it 's time for xxmaj tyra to change some things and lines because it 's getting boring and comparing to the firsts cycles we can see that she 's getting bored too , so she needs to do that if she wants the show to live a little longer . \n",
       " \n",
       "  xxmaj anyway , the show explores the fashion and modeling world , but it 's also entertaining for those ones that live outside all of that . xxmaj it gives the opportunity for some girls and also the market , and also gives great tips for those ones from the audience who shares the same dream .\n",
       "y: CategoryList\n",
       "pos,pos,pos,pos,pos\n",
       "Path: /home/jjc/.fastai/data/imdb;\n",
       "\n",
       "Test: None, model=SequentialRNN(\n",
       "  (0): MultiBatchEncoder(\n",
       "    (module): AWD_LSTM(\n",
       "      (encoder): Embedding(60000, 400, padding_idx=1)\n",
       "      (encoder_dp): EmbeddingDropout(\n",
       "        (emb): Embedding(60000, 400, padding_idx=1)\n",
       "      )\n",
       "      (rnns): ModuleList(\n",
       "        (0): WeightDropout(\n",
       "          (module): LSTM(400, 1152, batch_first=True)\n",
       "        )\n",
       "        (1): WeightDropout(\n",
       "          (module): LSTM(1152, 1152, batch_first=True)\n",
       "        )\n",
       "        (2): WeightDropout(\n",
       "          (module): LSTM(1152, 400, batch_first=True)\n",
       "        )\n",
       "      )\n",
       "      (input_dp): RNNDropout()\n",
       "      (hidden_dps): ModuleList(\n",
       "        (0): RNNDropout()\n",
       "        (1): RNNDropout()\n",
       "        (2): RNNDropout()\n",
       "      )\n",
       "    )\n",
       "  )\n",
       "  (1): PoolingLinearClassifier(\n",
       "    (layers): Sequential(\n",
       "      (0): BatchNorm1d(1200, eps=1e-05, momentum=0.1, affine=True, track_running_stats=True)\n",
       "      (1): Dropout(p=0.2, inplace=False)\n",
       "      (2): Linear(in_features=1200, out_features=50, bias=True)\n",
       "      (3): ReLU(inplace=True)\n",
       "      (4): BatchNorm1d(50, eps=1e-05, momentum=0.1, affine=True, track_running_stats=True)\n",
       "      (5): Dropout(p=0.1, inplace=False)\n",
       "      (6): Linear(in_features=50, out_features=2, bias=True)\n",
       "    )\n",
       "  )\n",
       "), opt_func=functools.partial(<class 'torch.optim.adam.Adam'>, betas=(0.9, 0.99)), loss_func=FlattenedLoss of CrossEntropyLoss(), metrics=[<function accuracy at 0x7f7a6f362290>], true_wd=True, bn_wd=True, wd=0.01, train_bn=True, path=PosixPath('/home/jjc/.fastai/data/imdb'), model_dir='models', callback_fns=[functools.partial(<class 'fastai.basic_train.Recorder'>, add_time=True, silent=False)], callbacks=[RNNTrainer\n",
       "learn: ...\n",
       "alpha: 2.0\n",
       "beta: 1.0, MixedPrecision\n",
       "learn: ...\n",
       "loss_scale: 65536\n",
       "max_noskip: 1000\n",
       "dynamic: True\n",
       "clip: None\n",
       "flat_master: False\n",
       "max_scale: 16777216\n",
       "loss_fp32: True], layer_groups=[Sequential(\n",
       "  (0): Embedding(60000, 400, padding_idx=1)\n",
       "  (1): EmbeddingDropout(\n",
       "    (emb): Embedding(60000, 400, padding_idx=1)\n",
       "  )\n",
       "), Sequential(\n",
       "  (0): WeightDropout(\n",
       "    (module): LSTM(400, 1152, batch_first=True)\n",
       "  )\n",
       "  (1): RNNDropout()\n",
       "), Sequential(\n",
       "  (0): WeightDropout(\n",
       "    (module): LSTM(1152, 1152, batch_first=True)\n",
       "  )\n",
       "  (1): RNNDropout()\n",
       "), Sequential(\n",
       "  (0): WeightDropout(\n",
       "    (module): LSTM(1152, 400, batch_first=True)\n",
       "  )\n",
       "  (1): RNNDropout()\n",
       "), Sequential(\n",
       "  (0): PoolingLinearClassifier(\n",
       "    (layers): Sequential(\n",
       "      (0): BatchNorm1d(1200, eps=1e-05, momentum=0.1, affine=True, track_running_stats=True)\n",
       "      (1): Dropout(p=0.2, inplace=False)\n",
       "      (2): Linear(in_features=1200, out_features=50, bias=True)\n",
       "      (3): ReLU(inplace=True)\n",
       "      (4): BatchNorm1d(50, eps=1e-05, momentum=0.1, affine=True, track_running_stats=True)\n",
       "      (5): Dropout(p=0.1, inplace=False)\n",
       "      (6): Linear(in_features=50, out_features=2, bias=True)\n",
       "    )\n",
       "  )\n",
       ")], add_time=True, silent=False)"
      ]
     },
     "execution_count": 9,
     "metadata": {},
     "output_type": "execute_result"
    }
   ],
   "source": [
    "learn.load('third') # load the pre-trained weights from the trained model, the classifier logic per se"
   ]
  },
  {
   "cell_type": "code",
   "execution_count": 10,
   "metadata": {},
   "outputs": [
    {
     "data": {
      "text/plain": [
       "(Category pos, tensor(1), tensor([0.3056, 0.6944]))"
      ]
     },
     "execution_count": 10,
     "metadata": {},
     "output_type": "execute_result"
    }
   ],
   "source": [
    "learn.predict('mindhunter is awesome')"
   ]
  },
  {
   "cell_type": "code",
   "execution_count": 12,
   "metadata": {},
   "outputs": [],
   "source": [
    "#export the whole model\n",
    "learn.export('export.pkl')"
   ]
  },
  {
   "cell_type": "markdown",
   "metadata": {},
   "source": [
    "### Another load approach"
   ]
  },
  {
   "cell_type": "code",
   "execution_count": 13,
   "metadata": {},
   "outputs": [
    {
     "data": {
      "text/plain": [
       "RNNLearner(data=TextClasDataBunch;\n",
       "\n",
       "Train: LabelList (25000 items)\n",
       "x: TextList\n",
       "xxbos i find i enjoy this show , but the format needs some work . xxmaj first off , the good attributes . i like how this show will take us through the day - to - day life of an addict because the producers have a knack at getting the addict to show us how bad they 've allowed their lives to become . xxmaj this is followed by an intervention which is then followed by an outcome . xxmaj intervention does n't candy - coat things and sometimes the outcome ( often short term due to the constraints of time between filming and airing ) is a negative outcome . xxmaj this makes the positive outcomes all the better . \n",
       " \n",
       "  xxmaj another thing i like about the show is the quality of the camera work . xxmaj given the reality that these cameramen have to squeeze anywhere and do n't have the benefit of re shooting scenes the photography is surprisingly good and stable . xxmaj it 's actually superior to scripted shows like \" xxmaj the xxmaj shield \" where the photography is so bad it can induce nausea . \n",
       " \n",
       "  xxmaj now for the bad . xxmaj an episode will sometimes contain two completely different and unrelated cases that will be mixed together during the show . xxmaj you 'll get caught up in the story of one addict then suddenly you 're thrown into the story of another . xxmaj get caught up in that story then suddenly you 're back to the first addict ... or are you ? xxmaj by now you may have forgotten which case the individual currently on screen belong to . xxmaj this constant flip - flopping between addicts really gets disruptive during the intervention scenes because the show will even mix together the two completely unrelated interventions ! i once heard the marketing xxup b.s. reason for this poor design : \" xxmaj the show can get so intense that switching to another addict allows the viewer time to absorb what they 're watching . \" xxmaj oh please . xxmaj clearly the reason this is done is because they have two cases that are n't big enough for an hour show so they mix two together . xxmaj by mixing them instead of giving each a half hour block , like they should , it forces the viewer to watch the entire thing ( and the commercials ) if they are interested in one case but not the other . \n",
       " \n",
       "  i used to find these \" blender \" episodes so annoying that i 'd only tell my tivo to record episodes containing one addict , but then it became easier just to record all of them .,xxbos i love this movie . i mean the story may not be the best , but the dancing most certainly makes up for it . xxmaj you get to know a little bit about each character the way xxup they want you to learn about them . i just think that you wo n't like this movie unless you 're into xxmaj broadway ...,xxbos xxmaj this is a great movie . xxmaj in the same genre of the \" xxmaj memphis xxmaj belle \" . xxmaj seen it about 10 years ago . xxmaj and would like to see it again . xxmaj there is a link with the history of the hells angels ! ! xxmaj how the pilot crew fight the xxmaj germans in xxup xxunk . xxmaj and most xxmaj changes form pilots to xxmaj harley motor cycle rs . xxmaj the movie is in a way really happened . xxmaj see the movie ! xxmaj and reed the history of the hells angels at hells at hells xxunk xxmaj regards xxmaj frederik . \n",
       " \n",
       "  xxmaj cast & xxmaj crew : xxmaj john xxmaj stamos , xxmaj john xxmaj stockwell , xxmaj teri xxmaj polo , xxmaj kris xxmaj xxunk , directed by xxmaj graham xxmaj baker more » xxmaj synopsis : xxmaj the story of a rowdy backwoods rebel biker who joins the xxmaj army to avoid a stiff prison sentence after a minor brush with the law . xxmaj though he chafes at xxmaj army discipline , he soon proves himself under fire as a daring and charismatic leader of men in a xxmaj motorcycle xxmaj scout xxmaj troop in pr - xxmaj world xxmaj war xxup ii xxmaj spain . more » xxup mpaa xxmaj rating : xxup pg xxmaj runtime : 88 minutes,xxbos xxmaj great movie , enough laughs and action for any audience . \n",
       " \n",
       "  xxmaj since the last person who posted on this movie took it upon themselves to call xxmaj woody xxmaj allen incestuous and not comment on the film , here i am . \n",
       " \n",
       "  xxmaj the film follows an unlikely duo , xxmaj johansson and xxmaj allen , as they follow a tip given to them by the ghost of a recently deceased xxmaj english reporter . xxmaj their search takes them into the home of the killer , and eventually to a somewhat tragic end . xxmaj but do n't let the plot fool you , the film truly is hilarious and the acting is superb . \n",
       " \n",
       "  xxmaj it seems that as directors reach a certain age they really get things right . xxmaj clint xxmaj eastwood , xxmaj allen and xxmaj pollack all seem to making some of the most imaginative work of their respective careers . xxmaj also , from watching the movie in a pact theater , you can just tell that people really love xxmaj woody xxmaj allen and are ready for him to really make a comeback . xxmaj the second he walked on screen audience lit up . xxmaj there 's just something about the man and he really shines in xxmaj scoop . \n",
       " \n",
       "  xxmaj check it out , it 's worth the trip .,xxbos xxmaj this is a great show , and will make you cry , this group people really loved each other in real life and it shows time and time again . xxmaj email me and let 's chat . i have been to xxmaj australia and they real do talk like this . \n",
       " \n",
       "  i want you to enjoy xxmaj five xxmaj mile xxmaj creek and pass on these great stories of right and wrong , and friendship to your kids . i have all 40 xxmaj episodes on xxup dvd - r that i have collected over the last 5 years . xxmaj see my xxmaj five xxmaj mile xxmaj creek tribute at xxunk and hear the extended theme music . xxmaj let 's talk about them . \n",
       " \n",
       "  xxmaj these people are so cool !\n",
       "y: CategoryList\n",
       "pos,pos,pos,pos,pos\n",
       "Path: /home/jjc/.fastai/data/imdb;\n",
       "\n",
       "Valid: LabelList (25000 items)\n",
       "x: TextList\n",
       "xxbos xxmaj this movie has two new features in relation to the message conveyed by other equally good movies about death penalty and executions . xxmaj those are the stress also given to the drama endured by victims ' parents -- without for that reason disguising the hatred and desire of revenge they feel or lessening the horror that execution represents -- and the xxmaj christian vision of all the questions implied . xxmaj we must also point out that in this movie the sentenced man is not the usual nice innocent person we see in other movies dealing with executions which does n't lead us to abandon the idea that a penal execution is no more than a legal murder anyway . xxmaj last but not least we must mention the extraordinary emotional weight put on the last moments of the execution course with all the catharsis shown by the convicted 's last words and the detail with which the act of the execution itself is viewed in a parallel cut with images of the murder scenes in the forest to stress that we are being confronted with another murder so pitiless as the latter but performed in a cold and supposed \" legal \" way .,xxbos a political satire of a comedian ( xxmaj williams ) who after dissing the political campaigns and presidents is forced into the running . xxmaj but shockingly we wins and makes a mockery of the office . \" xxmaj man of the xxmaj year \" is not the funniest movie nor the best but in small doses it does work . xxmaj williams again teaming with xxmaj levinson after a hit with \" xxmaj good xxmaj morning , xxmaj vietnam \" . xxmaj the two seem to have a great chemistry and work off each other . i am not comparing them to xxmaj scorsese and deniro but you can get the picture . xxmaj although i would n't quite say to rush out there and see the movie in theaters i would recommend renting it . xxmaj this movie is a comedy but also has a great satire , please if you like movies like \" xxmaj scary xxmaj movie 4 \" this is not for you , take your brain with you to see it . - * * *,xxbos 80 's comedies ( especially ones with xxmaj john xxmaj cusak ) are awesome . xxmaj almost all are hillarious and instant classics and this film is no exception . xxmaj plenty of nods to other films ( i.e. xxmaj godzilla and xxmaj jaws ) through out the movie that are so hillarious you 'll be laughing for hours . xxmaj some may complain that the movie is a little corny at times but hey it was the 80 's and things were always a little cheesy . xxmaj throw in a young xxmaj demi xxmaj moore and an even louder xxmaj bob xxmaj cat and you have a laughfest on your fans . xxmaj if you have n't seen this , you better soon xxrep 6 !,xxbos i ca n't see how a film of this quality only gets an average of 5.7 from imdb voters . xxmaj it 's a classic xxmaj australian production that resembles recent efforts such as xxup love xxup and xxup other xxup catastrophes , xxup the xxup sugar xxup factory , xxup occasional xxup coarse xxup language , xxup russian xxup doll , xxup sample xxup people , xxup the xxup secret xxup life xxup of xxup us , xxup la xxup spagnola , xxup strange xxup planet , xxup fresh xxup air , xxup dust xxup off xxup the xxup wings , xxup doing xxup time xxup for xxup patsy xxup cline , etc ... , as a 19-year - old uni student ( xxmaj newton , in perhaps his best role yet , on par with xxup changi at least ) with a bored , over - religious mother gets the shock of his life when she decides to enrol in the same course as him - and before you go thinking xxup another xxup goofy xxup movie , it 's not , there 's some real substance here . xxmaj sure , it 's a simplistic view of life in general and arts students in particular ( but then they are rather simplistic under all that philosophical mumbo - jumbo are n't they ? ) , and maybe the study of xxmaj sinead xxmaj cusack 's character is a little muddled at times , but the film is bright , funny , and has some important messages . xxmaj the principle cast is terrific : xxmaj cusack and xxmaj newton are wonderful , and xxmaj rose xxmaj byrne ( see her also in xxup the xxup goddess xxup of 1967 ) is so underrated it 's not funny . xxmaj she 's a beautiful , fresh , confident actor who deserves every accolade she receives . i gave xxup my xxup mother xxup frank 8 / 10 .,xxbos xxmaj america 's xxmaj next xxmaj top xxmaj model is a great reality show in every sense . xxmaj it has a great hostess , has great guests , a great production and some of the best professionals of the modeling world contributing for something they had n't achieved yet : present a true xxmaj america 's xxmaj next xxmaj top xxmaj model . xxmaj of course this is not something easy to do , therefore xxup usa and the world already would have 10 top models xxunk and fighting between themselves in this cruel world . \n",
       " \n",
       "  xxmaj but it 's obvious that its intention is not to present the xxmaj america 's next top model , but yes , the xxmaj america 's xxmaj next xxmaj pop xxmaj model . xxmaj the show gets together a bunch of models without any experience with different personalities and big personal , professional and financial problems , giving them a chance for bringing to life a dream or to make their lives something worthy . xxmaj it 's obvious that xxmaj tyra xxmaj banks uses all that for her advantage , she gives the dream , but in exchange for that she gains audience and more popularity . xxmaj anyway , she deserves it , because she is intelligent and , if i might say that , a pioneer to this kind of show . xxmaj tyra also is a great observer and knows how to give based opinions , differing herself of other models and hostess of foreign versions of the xxup next xxup top xxup model franchise . xxmaj in xxmaj brazil , as an example , xxmaj fernanda xxmaj xxunk is its hostess and \" once - upon - a - xxunk xxmaj model . xxmaj she does n't have even 1 / 10 of xxmaj tyra 's professional skills , which keeps xxmaj tyra xxmaj banks on the top . xxmaj tyra have professional and personal knowledge about what she says and she 's a great mentor because she not only criticizes but she points the mistake and teaches the right way with wisdom . \n",
       " \n",
       "  xxmaj the show does n't suffer from big problems , it does and fulfills what it promises during the cycles . xxmaj the models chosen to work on the show in fact are not the best unknown models of entire country because xxmaj tyra xxmaj banks bets with the difference , and she is right , because she ( and also good part of her audience ) believes that it 's time for the modeling world to change some straight parameters . xxmaj during the cycles , she and her team really makes fair xxunk , where the weakest go away and the promising ones have new chances to prove their capacities but must be fast to do that , otherwise they lose it . \n",
       " \n",
       "  xxmaj other very interesting thing is that xxmaj tyra also knows to decide who should or should n't win even when she 's against people 's opinion . xxmaj she knows that whoever wins will be famous , but has a very few possibilities to truly be a worldwide recognized top model . xxmaj at the same way she knows that , some times , the second place is more valuable than the first , because 1st place wins the title , but second does n't gets the title stigma . xxmaj hardly she makes mistakes when she decides the future of any model during the show . \n",
       " \n",
       "  xxmaj after 9 cycles the show is getting a little tired with some old ideas , it 's time for xxmaj tyra to change some things and lines because it 's getting boring and comparing to the firsts cycles we can see that she 's getting bored too , so she needs to do that if she wants the show to live a little longer . \n",
       " \n",
       "  xxmaj anyway , the show explores the fashion and modeling world , but it 's also entertaining for those ones that live outside all of that . xxmaj it gives the opportunity for some girls and also the market , and also gives great tips for those ones from the audience who shares the same dream .\n",
       "y: CategoryList\n",
       "pos,pos,pos,pos,pos\n",
       "Path: /home/jjc/.fastai/data/imdb;\n",
       "\n",
       "Test: None, model=SequentialRNN(\n",
       "  (0): MultiBatchEncoder(\n",
       "    (module): AWD_LSTM(\n",
       "      (encoder): Embedding(60000, 400, padding_idx=1)\n",
       "      (encoder_dp): EmbeddingDropout(\n",
       "        (emb): Embedding(60000, 400, padding_idx=1)\n",
       "      )\n",
       "      (rnns): ModuleList(\n",
       "        (0): WeightDropout(\n",
       "          (module): LSTM(400, 1152, batch_first=True)\n",
       "        )\n",
       "        (1): WeightDropout(\n",
       "          (module): LSTM(1152, 1152, batch_first=True)\n",
       "        )\n",
       "        (2): WeightDropout(\n",
       "          (module): LSTM(1152, 400, batch_first=True)\n",
       "        )\n",
       "      )\n",
       "      (input_dp): RNNDropout()\n",
       "      (hidden_dps): ModuleList(\n",
       "        (0): RNNDropout()\n",
       "        (1): RNNDropout()\n",
       "        (2): RNNDropout()\n",
       "      )\n",
       "    )\n",
       "  )\n",
       "  (1): PoolingLinearClassifier(\n",
       "    (layers): Sequential(\n",
       "      (0): BatchNorm1d(1200, eps=1e-05, momentum=0.1, affine=True, track_running_stats=True)\n",
       "      (1): Dropout(p=0.2, inplace=False)\n",
       "      (2): Linear(in_features=1200, out_features=50, bias=True)\n",
       "      (3): ReLU(inplace=True)\n",
       "      (4): BatchNorm1d(50, eps=1e-05, momentum=0.1, affine=True, track_running_stats=True)\n",
       "      (5): Dropout(p=0.1, inplace=False)\n",
       "      (6): Linear(in_features=50, out_features=2, bias=True)\n",
       "    )\n",
       "  )\n",
       "), opt_func=functools.partial(<class 'torch.optim.adam.Adam'>, betas=(0.9, 0.99)), loss_func=FlattenedLoss of CrossEntropyLoss(), metrics=[<function accuracy at 0x7f7a6f362290>], true_wd=True, bn_wd=True, wd=0.01, train_bn=True, path=PosixPath('/home/jjc/.fastai/data/imdb'), model_dir='models', callback_fns=[functools.partial(<class 'fastai.basic_train.Recorder'>, add_time=True, silent=False)], callbacks=[RNNTrainer\n",
       "learn: ...\n",
       "alpha: 2.0\n",
       "beta: 1.0, MixedPrecision\n",
       "learn: ...\n",
       "loss_scale: 65536\n",
       "max_noskip: 1000\n",
       "dynamic: True\n",
       "clip: None\n",
       "flat_master: False\n",
       "max_scale: 16777216\n",
       "loss_fp32: True], layer_groups=[Sequential(\n",
       "  (0): Embedding(60000, 400, padding_idx=1)\n",
       "  (1): EmbeddingDropout(\n",
       "    (emb): Embedding(60000, 400, padding_idx=1)\n",
       "  )\n",
       "), Sequential(\n",
       "  (0): WeightDropout(\n",
       "    (module): LSTM(400, 1152, batch_first=True)\n",
       "  )\n",
       "  (1): RNNDropout()\n",
       "), Sequential(\n",
       "  (0): WeightDropout(\n",
       "    (module): LSTM(1152, 1152, batch_first=True)\n",
       "  )\n",
       "  (1): RNNDropout()\n",
       "), Sequential(\n",
       "  (0): WeightDropout(\n",
       "    (module): LSTM(1152, 400, batch_first=True)\n",
       "  )\n",
       "  (1): RNNDropout()\n",
       "), Sequential(\n",
       "  (0): PoolingLinearClassifier(\n",
       "    (layers): Sequential(\n",
       "      (0): BatchNorm1d(1200, eps=1e-05, momentum=0.1, affine=True, track_running_stats=True)\n",
       "      (1): Dropout(p=0.2, inplace=False)\n",
       "      (2): Linear(in_features=1200, out_features=50, bias=True)\n",
       "      (3): ReLU(inplace=True)\n",
       "      (4): BatchNorm1d(50, eps=1e-05, momentum=0.1, affine=True, track_running_stats=True)\n",
       "      (5): Dropout(p=0.1, inplace=False)\n",
       "      (6): Linear(in_features=50, out_features=2, bias=True)\n",
       "    )\n",
       "  )\n",
       ")], add_time=True, silent=False)"
      ]
     },
     "execution_count": 13,
     "metadata": {},
     "output_type": "execute_result"
    }
   ],
   "source": [
    "learn\n"
   ]
  },
  {
   "cell_type": "code",
   "execution_count": null,
   "metadata": {},
   "outputs": [],
   "source": []
  },
  {
   "cell_type": "markdown",
   "metadata": {},
   "source": [
    "### Process some tweets"
   ]
  },
  {
   "cell_type": "code",
   "execution_count": 49,
   "metadata": {},
   "outputs": [],
   "source": [
    "import pathlib\n",
    "import json\n",
    "import numpy as np\n",
    "import pandas as pd\n",
    "from IPython.display import display"
   ]
  },
  {
   "cell_type": "code",
   "execution_count": 11,
   "metadata": {},
   "outputs": [],
   "source": [
    "tweet_path = pathlib.Path('/home/jupyter/my_projects/tv_tweets/')"
   ]
  },
  {
   "cell_type": "code",
   "execution_count": 13,
   "metadata": {},
   "outputs": [],
   "source": [
    "programs = [{'name':'mindhunter','file':'mindhunter_tweets.json'},\n",
    "           {'name':'designated survivor','file':'des_sur_tweets.json'},\n",
    "           {'name':'the i-land','file':'i_land_tweets.json'},\n",
    "           {'name':'another life','file':'al_tweets.json'},]"
   ]
  },
  {
   "cell_type": "code",
   "execution_count": 52,
   "metadata": {},
   "outputs": [],
   "source": [
    "tweet_file = tweet_path / 'al_tweets.json'"
   ]
  },
  {
   "cell_type": "code",
   "execution_count": 53,
   "metadata": {},
   "outputs": [],
   "source": [
    "with open(tweet_file,'r') as f:\n",
    "    tweets = json.load(f)"
   ]
  },
  {
   "cell_type": "code",
   "execution_count": 54,
   "metadata": {},
   "outputs": [
    {
     "data": {
      "text/plain": [
       "100"
      ]
     },
     "execution_count": 54,
     "metadata": {},
     "output_type": "execute_result"
    }
   ],
   "source": [
    "len(tweets)"
   ]
  },
  {
   "cell_type": "code",
   "execution_count": 55,
   "metadata": {},
   "outputs": [
    {
     "name": "stdout",
     "output_type": "stream",
     "text": [
      "recently watched Another Life on @netflix and i really liked it. i dont get all the hate. Sure its not Star Wars, b… https://t.co/7y6bWiz8pk\n",
      "(Category pos, tensor(1), tensor([0.0227, 0.9773]))\n",
      "@jasonrdavis I’m afraid for a channel heavy in sci fi, most of the Netflix shows are shite. ST Discovery rides a co… https://t.co/DzxI71PQXx\n",
      "(Category neg, tensor(0), tensor([0.6372, 0.3628]))\n",
      "RT @RedFiddler: I just tried to watch Another Life on Netflix. In the first episode, the female protagonist - the captain of an intergalact…\n",
      "(Category neg, tensor(0), tensor([0.7742, 0.2258]))\n",
      "#Netflix’s IN THE TALL GRASS Trailer Brings Another #StephenKing Tale To Life\n",
      "\n",
      "#IntheTallGrass https://t.co/eRLgKyyWyU\n",
      "(Category pos, tensor(1), tensor([0.2441, 0.7559]))\n",
      "I just tried to watch Another Life on Netflix. In the first episode, the female protagonist - the captain of an int… https://t.co/D9D7KTNMpE\n",
      "(Category pos, tensor(1), tensor([0.4383, 0.5617]))\n"
     ]
    }
   ],
   "source": [
    "for t in tweets[0:5]:\n",
    "    print(t)\n",
    "    print(learn.predict(t))"
   ]
  },
  {
   "cell_type": "code",
   "execution_count": 35,
   "metadata": {},
   "outputs": [],
   "source": [
    "def get_scores(tweets):\n",
    "    \n",
    "    cats = []\n",
    "    scores = []\n",
    "    \n",
    "    for tweet in tweets:\n",
    "        cat, ten, score = learn.predict(tweet)\n",
    "    \n",
    "        cats.append(cat.__str__())\n",
    "        scores.append(score[ten].item())\n",
    "        \n",
    "    return cats, scores\n",
    "    \n",
    "    "
   ]
  },
  {
   "cell_type": "code",
   "execution_count": 36,
   "metadata": {},
   "outputs": [],
   "source": [
    "cats, scores = get_scores(tweets)"
   ]
  },
  {
   "cell_type": "code",
   "execution_count": 43,
   "metadata": {},
   "outputs": [
    {
     "data": {
      "text/html": [
       "<div>\n",
       "<style scoped>\n",
       "    .dataframe tbody tr th:only-of-type {\n",
       "        vertical-align: middle;\n",
       "    }\n",
       "\n",
       "    .dataframe tbody tr th {\n",
       "        vertical-align: top;\n",
       "    }\n",
       "\n",
       "    .dataframe thead th {\n",
       "        text-align: right;\n",
       "    }\n",
       "</style>\n",
       "<table border=\"1\" class=\"dataframe\">\n",
       "  <thead>\n",
       "    <tr style=\"text-align: right;\">\n",
       "      <th></th>\n",
       "      <th>Categories</th>\n",
       "      <th>Scores</th>\n",
       "    </tr>\n",
       "  </thead>\n",
       "  <tbody>\n",
       "    <tr>\n",
       "      <th>0</th>\n",
       "      <td>neg</td>\n",
       "      <td>0.696478</td>\n",
       "    </tr>\n",
       "    <tr>\n",
       "      <th>1</th>\n",
       "      <td>neg</td>\n",
       "      <td>0.828244</td>\n",
       "    </tr>\n",
       "    <tr>\n",
       "      <th>2</th>\n",
       "      <td>pos</td>\n",
       "      <td>0.679582</td>\n",
       "    </tr>\n",
       "    <tr>\n",
       "      <th>3</th>\n",
       "      <td>pos</td>\n",
       "      <td>0.542215</td>\n",
       "    </tr>\n",
       "    <tr>\n",
       "      <th>4</th>\n",
       "      <td>neg</td>\n",
       "      <td>0.507333</td>\n",
       "    </tr>\n",
       "  </tbody>\n",
       "</table>\n",
       "</div>"
      ],
      "text/plain": [
       "  Categories    Scores\n",
       "0        neg  0.696478\n",
       "1        neg  0.828244\n",
       "2        pos  0.679582\n",
       "3        pos  0.542215\n",
       "4        neg  0.507333"
      ]
     },
     "execution_count": 43,
     "metadata": {},
     "output_type": "execute_result"
    }
   ],
   "source": [
    "df = pd.DataFrame(data={'Categories':cats,'Scores':scores})\n",
    "df.head()"
   ]
  },
  {
   "cell_type": "code",
   "execution_count": 47,
   "metadata": {},
   "outputs": [
    {
     "data": {
      "text/html": [
       "<div>\n",
       "<style scoped>\n",
       "    .dataframe tbody tr th:only-of-type {\n",
       "        vertical-align: middle;\n",
       "    }\n",
       "\n",
       "    .dataframe tbody tr th {\n",
       "        vertical-align: top;\n",
       "    }\n",
       "\n",
       "    .dataframe thead th {\n",
       "        text-align: right;\n",
       "    }\n",
       "</style>\n",
       "<table border=\"1\" class=\"dataframe\">\n",
       "  <thead>\n",
       "    <tr style=\"text-align: right;\">\n",
       "      <th></th>\n",
       "      <th>Categories</th>\n",
       "      <th>Scores</th>\n",
       "    </tr>\n",
       "    <tr>\n",
       "      <th>Categories</th>\n",
       "      <th></th>\n",
       "      <th></th>\n",
       "    </tr>\n",
       "  </thead>\n",
       "  <tbody>\n",
       "    <tr>\n",
       "      <th>neg</th>\n",
       "      <td>39</td>\n",
       "      <td>0.674914</td>\n",
       "    </tr>\n",
       "    <tr>\n",
       "      <th>pos</th>\n",
       "      <td>61</td>\n",
       "      <td>0.721752</td>\n",
       "    </tr>\n",
       "  </tbody>\n",
       "</table>\n",
       "</div>"
      ],
      "text/plain": [
       "            Categories    Scores\n",
       "Categories                      \n",
       "neg                 39  0.674914\n",
       "pos                 61  0.721752"
      ]
     },
     "execution_count": 47,
     "metadata": {},
     "output_type": "execute_result"
    }
   ],
   "source": [
    "df.groupby('Categories').agg({'Categories':len,'Scores':np.mean})"
   ]
  },
  {
   "cell_type": "code",
   "execution_count": 50,
   "metadata": {},
   "outputs": [
    {
     "name": "stdout",
     "output_type": "stream",
     "text": [
      "mindhunter\n"
     ]
    },
    {
     "data": {
      "text/html": [
       "<div>\n",
       "<style scoped>\n",
       "    .dataframe tbody tr th:only-of-type {\n",
       "        vertical-align: middle;\n",
       "    }\n",
       "\n",
       "    .dataframe tbody tr th {\n",
       "        vertical-align: top;\n",
       "    }\n",
       "\n",
       "    .dataframe thead th {\n",
       "        text-align: right;\n",
       "    }\n",
       "</style>\n",
       "<table border=\"1\" class=\"dataframe\">\n",
       "  <thead>\n",
       "    <tr style=\"text-align: right;\">\n",
       "      <th></th>\n",
       "      <th>Categories</th>\n",
       "      <th>Scores</th>\n",
       "    </tr>\n",
       "    <tr>\n",
       "      <th>Categories</th>\n",
       "      <th></th>\n",
       "      <th></th>\n",
       "    </tr>\n",
       "  </thead>\n",
       "  <tbody>\n",
       "    <tr>\n",
       "      <th>neg</th>\n",
       "      <td>39</td>\n",
       "      <td>0.674914</td>\n",
       "    </tr>\n",
       "    <tr>\n",
       "      <th>pos</th>\n",
       "      <td>61</td>\n",
       "      <td>0.721752</td>\n",
       "    </tr>\n",
       "  </tbody>\n",
       "</table>\n",
       "</div>"
      ],
      "text/plain": [
       "            Categories    Scores\n",
       "Categories                      \n",
       "neg                 39  0.674914\n",
       "pos                 61  0.721752"
      ]
     },
     "metadata": {},
     "output_type": "display_data"
    },
    {
     "name": "stdout",
     "output_type": "stream",
     "text": [
      "designated survivor\n"
     ]
    },
    {
     "data": {
      "text/html": [
       "<div>\n",
       "<style scoped>\n",
       "    .dataframe tbody tr th:only-of-type {\n",
       "        vertical-align: middle;\n",
       "    }\n",
       "\n",
       "    .dataframe tbody tr th {\n",
       "        vertical-align: top;\n",
       "    }\n",
       "\n",
       "    .dataframe thead th {\n",
       "        text-align: right;\n",
       "    }\n",
       "</style>\n",
       "<table border=\"1\" class=\"dataframe\">\n",
       "  <thead>\n",
       "    <tr style=\"text-align: right;\">\n",
       "      <th></th>\n",
       "      <th>Categories</th>\n",
       "      <th>Scores</th>\n",
       "    </tr>\n",
       "    <tr>\n",
       "      <th>Categories</th>\n",
       "      <th></th>\n",
       "      <th></th>\n",
       "    </tr>\n",
       "  </thead>\n",
       "  <tbody>\n",
       "    <tr>\n",
       "      <th>neg</th>\n",
       "      <td>35</td>\n",
       "      <td>0.714103</td>\n",
       "    </tr>\n",
       "    <tr>\n",
       "      <th>pos</th>\n",
       "      <td>65</td>\n",
       "      <td>0.755773</td>\n",
       "    </tr>\n",
       "  </tbody>\n",
       "</table>\n",
       "</div>"
      ],
      "text/plain": [
       "            Categories    Scores\n",
       "Categories                      \n",
       "neg                 35  0.714103\n",
       "pos                 65  0.755773"
      ]
     },
     "metadata": {},
     "output_type": "display_data"
    },
    {
     "name": "stdout",
     "output_type": "stream",
     "text": [
      "the i-land\n"
     ]
    },
    {
     "data": {
      "text/html": [
       "<div>\n",
       "<style scoped>\n",
       "    .dataframe tbody tr th:only-of-type {\n",
       "        vertical-align: middle;\n",
       "    }\n",
       "\n",
       "    .dataframe tbody tr th {\n",
       "        vertical-align: top;\n",
       "    }\n",
       "\n",
       "    .dataframe thead th {\n",
       "        text-align: right;\n",
       "    }\n",
       "</style>\n",
       "<table border=\"1\" class=\"dataframe\">\n",
       "  <thead>\n",
       "    <tr style=\"text-align: right;\">\n",
       "      <th></th>\n",
       "      <th>Categories</th>\n",
       "      <th>Scores</th>\n",
       "    </tr>\n",
       "    <tr>\n",
       "      <th>Categories</th>\n",
       "      <th></th>\n",
       "      <th></th>\n",
       "    </tr>\n",
       "  </thead>\n",
       "  <tbody>\n",
       "    <tr>\n",
       "      <th>neg</th>\n",
       "      <td>59</td>\n",
       "      <td>0.772427</td>\n",
       "    </tr>\n",
       "    <tr>\n",
       "      <th>pos</th>\n",
       "      <td>41</td>\n",
       "      <td>0.763920</td>\n",
       "    </tr>\n",
       "  </tbody>\n",
       "</table>\n",
       "</div>"
      ],
      "text/plain": [
       "            Categories    Scores\n",
       "Categories                      \n",
       "neg                 59  0.772427\n",
       "pos                 41  0.763920"
      ]
     },
     "metadata": {},
     "output_type": "display_data"
    },
    {
     "name": "stdout",
     "output_type": "stream",
     "text": [
      "another life\n"
     ]
    },
    {
     "data": {
      "text/html": [
       "<div>\n",
       "<style scoped>\n",
       "    .dataframe tbody tr th:only-of-type {\n",
       "        vertical-align: middle;\n",
       "    }\n",
       "\n",
       "    .dataframe tbody tr th {\n",
       "        vertical-align: top;\n",
       "    }\n",
       "\n",
       "    .dataframe thead th {\n",
       "        text-align: right;\n",
       "    }\n",
       "</style>\n",
       "<table border=\"1\" class=\"dataframe\">\n",
       "  <thead>\n",
       "    <tr style=\"text-align: right;\">\n",
       "      <th></th>\n",
       "      <th>Categories</th>\n",
       "      <th>Scores</th>\n",
       "    </tr>\n",
       "    <tr>\n",
       "      <th>Categories</th>\n",
       "      <th></th>\n",
       "      <th></th>\n",
       "    </tr>\n",
       "  </thead>\n",
       "  <tbody>\n",
       "    <tr>\n",
       "      <th>neg</th>\n",
       "      <td>31</td>\n",
       "      <td>0.761778</td>\n",
       "    </tr>\n",
       "    <tr>\n",
       "      <th>pos</th>\n",
       "      <td>69</td>\n",
       "      <td>0.783529</td>\n",
       "    </tr>\n",
       "  </tbody>\n",
       "</table>\n",
       "</div>"
      ],
      "text/plain": [
       "            Categories    Scores\n",
       "Categories                      \n",
       "neg                 31  0.761778\n",
       "pos                 69  0.783529"
      ]
     },
     "metadata": {},
     "output_type": "display_data"
    }
   ],
   "source": [
    "for program in programs:\n",
    "    print(program['name'])\n",
    "    \n",
    "    #load tweets\n",
    "    tweet_file = tweet_path / program['file']\n",
    "    \n",
    "    with open(tweet_file,'r') as f:\n",
    "        tweets = json.load(f)\n",
    "    \n",
    "    cats, scores = get_scores(tweets)\n",
    "    df = pd.DataFrame(data={'Categories':cats,'Scores':scores})\n",
    "    display(df.groupby('Categories').agg({'Categories':len,'Scores':np.mean}))\n",
    "    "
   ]
  },
  {
   "cell_type": "code",
   "execution_count": null,
   "metadata": {},
   "outputs": [],
   "source": []
  }
 ],
 "metadata": {
  "kernelspec": {
   "display_name": "Python 3",
   "language": "python",
   "name": "python3"
  },
  "language_info": {
   "codemirror_mode": {
    "name": "ipython",
    "version": 3
   },
   "file_extension": ".py",
   "mimetype": "text/x-python",
   "name": "python",
   "nbconvert_exporter": "python",
   "pygments_lexer": "ipython3",
   "version": "3.7.4"
  }
 },
 "nbformat": 4,
 "nbformat_minor": 2
}
